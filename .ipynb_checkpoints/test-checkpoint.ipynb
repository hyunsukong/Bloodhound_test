{
 "cells": [
  {
   "cell_type": "code",
   "execution_count": 1,
   "metadata": {},
   "outputs": [],
   "source": [
    "from matplotlib import pyplot as plt\n",
    "import bloodhound\n",
    "import importlib\n",
    "import numpy as np"
   ]
  },
  {
   "cell_type": "code",
   "execution_count": 2,
   "metadata": {},
   "outputs": [
    {
     "data": {
      "text/plain": [
       "<module 'bloodhound' from '/scratch/05097/hk9457/pELVIS/z13/bloodhound_subhalo_tracking/Bloodhound/bloodhound.py'>"
      ]
     },
     "execution_count": 2,
     "metadata": {},
     "output_type": "execute_result"
    }
   ],
   "source": [
    "importlib.reload(bloodhound)"
   ]
  },
  {
   "cell_type": "code",
   "execution_count": 3,
   "metadata": {},
   "outputs": [
    {
     "name": "stdout",
     "output_type": "stream",
     "text": [
      "{'host_main_branch_dmo': '/scratch/05097/hk9457/pELVIS/z13/disk/halo_493/subhalo_analysis/493_dmo_host_main_branch_new.csv', 'host_main_branch_disk': '/scratch/05097/hk9457/pELVIS/z13/disk/halo_493/subhalo_analysis/493_disk_host_main_branch_new.csv', 'main_branch_dmo': '/scratch/05097/hk9457/pELVIS/z13/disk/halo_493/subhalo_analysis/main_branches_dmo_493_tyler.csv', 'subtree_dmo': '/scratch/05097/hk9457/pELVIS/z13/disk/halo_493/subhalo_analysispELVIS_z13_halo_tracking/493/subtrees_from_host/493_dmo_host_subtrees_main_branch_new.hdf5', 'subtree_disk': '/scratch/05097/hk9457/pELVIS/z13/disk/halo_493/subhalo_analysispELVIS_z13_halo_tracking/493/subtrees_from_host/493_disk_host_subtrees_main_branch_new.hdf5', 'infall_subtree_disk': '/scratch/05097/hk9457/pELVIS/z13/disk/halo_493/subhalo_analysispELVIS_z13_halo_tracking/493/subtrees_from_host/493_disk_subtrees_infall_criteria.hdf5', 'iden_dmo_tree': '/scratch/05097/hk9457/pELVIS/z13/disk/halo_493/subhalo_analysispELVIS_z13_halo_tracking/493/subtrees_from_host/493_dmo_subtrees_matched_merged.hdf5', 'subID_hID_pair': '/scratch/05097/hk9457/pELVIS/z13/disk/halo_493/subhalo_analysispELVIS_z13_halo_tracking/493/tID_hID_pairs/493_disk_infall_criteria_tid_hid_pairs.csv', 'tracked_subhalo_property_dmo': '/scratch/05097/hk9457/pELVIS/z13/disk/halo_493/subhalo_analysispELVIS_z13_halo_tracking/493/tracked_subhalo_properties/from_disk_subtrees/493_tree_from_tracked_particles_dmo_merged.hdf5', 'tracked_subhalo_property_disk': '/scratch/05097/hk9457/pELVIS/z13/disk/halo_493/subhalo_analysispELVIS_z13_halo_tracking/493/tracked_subhalo_properties/from_disk_subtrees/493_tree_from_tracked_particles_disk_merged.hdf5'}\n",
      "\n",
      "sim_type:\n",
      "{'x': array([37.26025774, 37.30773219, 37.3566879 , 37.40232558, 37.45079248,\n",
      "       37.49327507, 37.52835136, 37.57474448, 37.62543327, 37.67280403,\n",
      "       37.71516812, 37.75917642, 37.82221893, 37.8969486 , 37.96375352,\n",
      "       38.03337283, 38.07779588, 38.11950822, 38.1712487 , 38.22943268,\n",
      "       38.27644793, 38.32697378, 38.38050659, 38.40666568, 38.45236261,\n",
      "       38.50321434, 38.55911717, 38.61651607, 38.68283217, 38.74273441,\n",
      "       38.79207525, 38.82158199, 38.87004888, 38.91873796, 38.96025774,\n",
      "       39.00100726, 39.04353429, 39.08727596, 39.13430603, 39.18263961,\n",
      "       39.23054362, 39.27832914, 39.32162643, 39.35982817, 39.38149904,\n",
      "       39.41312398, 39.44771145, 39.47635906, 39.49934824, 39.52487039,\n",
      "       39.55501407, 39.59361576, 39.64421567, 39.70222189, 39.75489557,\n",
      "       39.80127389, 39.84180121, 39.88862391, 39.93867575, 39.98435787,\n",
      "       40.02223374, 40.06122056, 40.10294771, 40.14603762, 40.18900904,\n",
      "       40.23085469, 40.27332247, 40.31621982, 40.35858391, 40.4001185 ,\n",
      "       40.42039698, 40.46022811, 40.50063694, 40.54101615, 40.58138054,\n",
      "       40.62081173, 40.65933936, 40.69717079, 40.73464672, 40.77198933,\n",
      "       40.80832469, 40.84452674, 40.88111391, 40.91773071, 40.95406606,\n",
      "       40.98951266, 41.02435195, 41.05871723, 41.09228262, 41.12402607,\n",
      "       41.15464376, 41.18418012, 41.21441268, 41.24563768, 41.27757369,\n",
      "       41.31047252, 41.34383054, 41.37767738, 41.41150941, 41.44545993,\n",
      "       41.47898089, 41.51214635, 41.54485261, 41.57695156, 41.6087987 ,\n",
      "       41.64285291, 41.67524811, 41.65664346, 41.6867427 , 41.76692342,\n",
      "       41.79749667, 41.82809954, 41.8588061 , 41.88960154, 41.92010073,\n",
      "       41.94996297, 41.97906977, 42.00756925, 42.03547623, 42.06299807,\n",
      "       42.09028292, 42.1174937 , 42.14470449, 42.17176715, 42.19854836,\n",
      "       42.22507777, 42.25148867, 42.27784032, 42.30388091, 42.32940305,\n",
      "       42.35448082, 42.37921789, 42.40391053, 42.42876611, 42.45388831,\n",
      "       42.47954377, 42.50531773, 42.530751  , 42.55571027, 42.58012146,\n",
      "       42.60385128, 42.62691453, 42.64942971, 42.67145608, 42.69303807,\n",
      "       42.71404236]), 'y': array([37.53763887, 37.53517997, 37.5338024 , 37.52915124, 37.52918086,\n",
      "       37.53006962, 37.52609984, 37.52167086, 37.52085617, 37.51731595,\n",
      "       37.51547919, 37.50391053, 37.48859428, 37.48154348, 37.47249296,\n",
      "       37.47932158, 37.49431195, 37.50436972, 37.50896164, 37.52036735,\n",
      "       37.52851429, 37.53156569, 37.52426307, 37.52540364, 37.5308695 ,\n",
      "       37.53584654, 37.54169753, 37.5430751 , 37.54535624, 37.54763739,\n",
      "       37.55154792, 37.5536365 , 37.55725078, 37.56329433, 37.57618131,\n",
      "       37.59785217, 37.61303511, 37.62273737, 37.62855873, 37.63248408,\n",
      "       37.63479485, 37.63414309, 37.63778699, 37.6442453 , 37.64820027,\n",
      "       37.65403644, 37.66142794, 37.67336691, 37.69475633, 37.71964153,\n",
      "       37.7447193 , 37.76788624, 37.78447637, 37.78561695, 37.78585395,\n",
      "       37.79044586, 37.79594134, 37.80191083, 37.8119686 , 37.81543475,\n",
      "       37.81858984, 37.8245297 , 37.82881055, 37.83371352, 37.83747593,\n",
      "       37.84092727, 37.84556362, 37.85108873, 37.8571619 , 37.86427196,\n",
      "       37.86821212, 37.8768775 , 37.88594282, 37.8950674 , 37.90407347,\n",
      "       37.91248704, 37.92085617, 37.92932899, 37.93793512, 37.9461265 ,\n",
      "       37.95424382, 37.96206488, 37.96988594, 37.97757369, 37.98512813,\n",
      "       37.99257888, 37.99970375, 38.00671012, 38.01278329, 38.01747889,\n",
      "       38.01937491, 38.01481262, 38.00835432, 38.00616205, 38.00780625,\n",
      "       38.01156866, 38.01619019, 38.02110798, 38.0265294 , 38.03294327,\n",
      "       38.03963857, 38.046008  , 38.05240705, 38.05890979, 38.06624204,\n",
      "       38.07504073, 38.08068434, 38.03655755, 38.04101615, 38.09262332,\n",
      "       38.09632647, 38.10005925, 38.10405866, 38.10789513, 38.11131684,\n",
      "       38.11416087, 38.11657532, 38.11885647, 38.12137461, 38.12424826,\n",
      "       38.12735891, 38.13079544, 38.13476522, 38.13914976, 38.14390461,\n",
      "       38.14889646, 38.15400681, 38.15901348, 38.16367945, 38.16803437,\n",
      "       38.17221152, 38.176522  , 38.18120278, 38.18610576, 38.19134943,\n",
      "       38.19653385, 38.20159976, 38.20712487, 38.21290179, 38.21844171,\n",
      "       38.22358169, 38.22833654, 38.2327507 , 38.23691305, 38.2409569 ,\n",
      "       38.24479336]), 'z': array([35.37674419, 35.36745667, 35.35842097, 35.34705969, 35.3319212 ,\n",
      "       35.31724189, 35.30561398, 35.29657828, 35.28737965, 35.27829951,\n",
      "       35.2696045 , 35.26043549, 35.25605096, 35.25622871, 35.25390313,\n",
      "       35.25720634, 35.23426159, 35.19884462, 35.18015109, 35.17536661,\n",
      "       35.16735298, 35.16397571, 35.16304251, 35.16424233, 35.15816916,\n",
      "       35.14852614, 35.13728337, 35.11741964, 35.10389572, 35.09985187,\n",
      "       35.1081025 , 35.1143238 , 35.12303362, 35.13295808, 35.14344542,\n",
      "       35.15458451, 35.1595023 , 35.16157606, 35.161739  , 35.16190194,\n",
      "       35.16207969, 35.16402015, 35.17061176, 35.17561843, 35.17926233,\n",
      "       35.18570582, 35.19693379, 35.21276848, 35.22881055, 35.24061621,\n",
      "       35.25185898, 35.26665679, 35.2874389 , 35.29700785, 35.28883128,\n",
      "       35.26797511, 35.2386165 , 35.21392386, 35.19595615, 35.18917197,\n",
      "       35.18478744, 35.1780477 , 35.1724189 , 35.16791586, 35.16496815,\n",
      "       35.16167975, 35.15725078, 35.15219967, 35.14651163, 35.14098652,\n",
      "       35.13829062, 35.13282477, 35.12666272, 35.12072286, 35.11565694,\n",
      "       35.11102059, 35.10591024, 35.10037032, 35.09524515, 35.09043105,\n",
      "       35.08619464, 35.08212117, 35.07770701, 35.07317434, 35.06880462,\n",
      "       35.06439046, 35.05932454, 35.05391794, 35.04891127, 35.04559325,\n",
      "       35.0424826 , 35.0369723 , 35.02492964, 35.0105614 , 34.99600059,\n",
      "       34.98179529, 34.96813805, 34.95451044, 34.94088283, 34.92670715,\n",
      "       34.91300548, 34.8998815 , 34.88736483, 34.87530736, 34.86381277,\n",
      "       34.85384387, 34.8451933 , 34.8190194 , 34.80988002, 34.81510887,\n",
      "       34.80579173, 34.7967116 , 34.78786846, 34.77967708, 34.77188565,\n",
      "       34.76416827, 34.75652496, 34.74883721, 34.74110502, 34.7334469 ,\n",
      "       34.72589246, 34.71835284, 34.71081321, 34.70337728, 34.69592653,\n",
      "       34.68847578, 34.68081766, 34.67304103, 34.66507184, 34.65695453,\n",
      "       34.64889646, 34.64092727, 34.63306177, 34.62535921, 34.61778996,\n",
      "       34.61039846, 34.60362909, 34.59771886, 34.59294919, 34.58897941,\n",
      "       34.58523182, 34.58142497, 34.57730707, 34.57310028, 34.56884906,\n",
      "       34.56446452]), 'scale': array([0.05046, 0.05711, 0.06374, 0.07039, 0.07702, 0.08366, 0.09031,\n",
      "       0.09695, 0.10359, 0.11023, 0.11687, 0.12351, 0.13015, 0.13679,\n",
      "       0.14343, 0.15007, 0.15671, 0.16335, 0.16999, 0.17663, 0.18327,\n",
      "       0.18991, 0.19655, 0.2    , 0.20651, 0.21315, 0.21979, 0.22643,\n",
      "       0.23307, 0.23971, 0.24635, 0.25   , 0.25631, 0.26295, 0.26959,\n",
      "       0.27623, 0.28287, 0.28951, 0.29615, 0.30279, 0.30943, 0.31607,\n",
      "       0.32271, 0.32935, 0.33333, 0.33931, 0.34595, 0.35259, 0.35923,\n",
      "       0.36587, 0.37251, 0.37915, 0.38579, 0.39243, 0.39907, 0.40571,\n",
      "       0.41235, 0.41899, 0.42563, 0.43227, 0.43891, 0.44555, 0.45219,\n",
      "       0.45883, 0.46547, 0.47211, 0.47875, 0.48539, 0.49203, 0.49867,\n",
      "       0.50199, 0.50863, 0.51527, 0.52191, 0.52855, 0.53519, 0.54183,\n",
      "       0.54847, 0.55511, 0.56175, 0.56839, 0.57503, 0.58167, 0.58831,\n",
      "       0.59495, 0.60159, 0.60823, 0.61487, 0.62151, 0.62815, 0.63479,\n",
      "       0.64143, 0.64807, 0.65471, 0.66136, 0.66799, 0.67463, 0.68128,\n",
      "       0.68792, 0.69455, 0.7012 , 0.70784, 0.71447, 0.72112, 0.72776,\n",
      "       0.7344 , 0.74104, 0.74768, 0.75432, 0.76096, 0.7676 , 0.77424,\n",
      "       0.78088, 0.78752, 0.79416, 0.8008 , 0.80744, 0.81408, 0.82072,\n",
      "       0.82736, 0.834  , 0.84064, 0.84728, 0.85392, 0.86056, 0.8672 ,\n",
      "       0.87384, 0.88048, 0.88712, 0.89376, 0.9004 , 0.90704, 0.91368,\n",
      "       0.92032, 0.92696, 0.9336 , 0.94024, 0.94688, 0.95352, 0.96016,\n",
      "       0.9668 , 0.97344, 0.98008, 0.98672, 0.99336, 1.     ]), 'vmax': array([  5.9 ,   7.24,   8.91,  10.95,   9.54,  11.25,  12.46,  27.98,\n",
      "        29.8 ,  39.89,  51.63,  49.41,  54.21,  63.45,  79.12,  89.33,\n",
      "        95.83,  97.68, 102.6 , 114.77, 127.41, 124.27, 120.06, 118.72,\n",
      "       117.37, 117.46, 118.74, 122.55, 120.89, 117.38, 125.33, 128.3 ,\n",
      "       131.93, 136.71, 142.69, 142.81, 139.04, 135.5 , 131.85, 130.21,\n",
      "       130.78, 134.46, 135.62, 139.42, 144.61, 151.61, 158.2 , 163.21,\n",
      "       161.06, 167.53, 177.3 , 183.39, 193.4 , 194.41, 194.68, 196.14,\n",
      "       195.85, 193.45, 189.53, 185.02, 183.52, 183.51, 184.05, 187.52,\n",
      "       191.85, 193.75, 193.25, 189.68, 189.28, 188.78, 188.25, 187.19,\n",
      "       186.  , 185.28, 184.67, 184.55, 184.7 , 185.84, 186.59, 188.27,\n",
      "       188.55, 189.28, 190.26, 191.24, 191.42, 192.14, 192.89, 195.6 ,\n",
      "       199.94, 210.08, 220.67, 226.08, 222.26, 214.86, 206.58, 199.4 ,\n",
      "       195.23, 191.95, 189.43, 188.85, 189.25, 190.05, 191.29, 195.07,\n",
      "       199.04, 203.47, 205.74, 183.59, 183.46, 201.91, 201.94, 201.57,\n",
      "       200.92, 199.96, 199.23, 198.83, 198.64, 198.52, 198.92, 199.55,\n",
      "       200.48, 201.64, 202.44, 202.62, 203.98, 204.7 , 204.4 , 204.22,\n",
      "       203.63, 203.68, 203.47, 202.11, 202.22, 202.64, 204.38, 205.27,\n",
      "       209.24, 210.1 , 209.7 , 206.3 , 205.05, 204.64, 204.32, 203.96,\n",
      "       203.3 , 202.23]), 'rvir': array([  3.70019256,   4.86594579,   6.02281144,   8.11879722,\n",
      "         7.4403792 ,   9.14679307,  10.52140424,  23.40097763,\n",
      "        26.96489409,  37.21670864,  42.31076877,  48.79721523,\n",
      "        53.96830099,  65.13257295,  81.01614576,  87.15745815,\n",
      "        96.88194342, 102.43667605, 118.2210043 , 126.31313879,\n",
      "       130.33032143, 135.74877796, 140.81617538, 142.34335654,\n",
      "       144.98444675, 148.123241  , 152.49444527, 154.74596356,\n",
      "       156.94415642, 159.60450304, 173.49429714, 178.10990964,\n",
      "       182.89734854, 187.31447193, 189.88742409, 191.32572952,\n",
      "       192.7936602 , 193.59502296, 194.30751   , 195.32661828,\n",
      "       197.38705377, 202.14782995, 208.29951118, 220.37327803,\n",
      "       226.03466153, 230.52732928, 233.73278033, 237.3663161 ,\n",
      "       252.75514739, 275.00222189, 283.8394312 , 290.24440824,\n",
      "       292.91364242, 295.70730262, 299.69337876, 302.98770553,\n",
      "       305.84357873, 308.34543031, 309.81780477, 312.43815731,\n",
      "       315.19922974, 316.20945045, 315.92504814, 314.61857503,\n",
      "       313.3787587 , 312.56850837, 311.83824619, 310.97911421,\n",
      "       310.73766849, 310.37031551, 310.33920901, 309.53784625,\n",
      "       307.69367501, 306.8241742 , 306.02577396, 305.76359058,\n",
      "       306.0005925 , 307.32928455, 308.81350911, 310.34365279,\n",
      "       311.75825804, 314.29417864, 317.90993927, 321.6308695 ,\n",
      "       330.07998815, 339.18382462, 342.25003703, 343.70019256,\n",
      "       344.48526144, 344.99925937, 345.28366168, 346.15168123,\n",
      "       346.61827877, 347.03155088, 347.63294327, 347.88327655,\n",
      "       348.51873796, 349.29640053, 349.60005925, 349.2978818 ,\n",
      "       348.42393719, 347.33224707, 345.71767146, 344.19641535,\n",
      "       342.99214931, 341.79528959, 340.42808473, 334.11050215,\n",
      "       333.40394016, 336.79603022, 336.21389424, 335.88949785,\n",
      "       335.51177603, 335.04073471, 334.49563028, 334.22011554,\n",
      "       334.03199526, 333.84387498, 333.66908606, 333.41579025,\n",
      "       333.11953785, 332.77884758, 332.59665235, 332.66923419,\n",
      "       332.72848467, 334.8496519 , 338.08917197, 338.53058806,\n",
      "       338.5602133 , 338.32765516, 338.04177159, 337.82254481,\n",
      "       337.64183084, 337.29817805, 336.89231225, 336.44645238,\n",
      "       335.9383795 , 335.27477411, 334.56524959, 333.78758702,\n",
      "       332.96252407, 332.28410606, 331.68715746, 331.04428973,\n",
      "       330.30513998, 329.57635906]), 'rvir_phys': array([1.86711717e-01, 2.77894164e-01, 3.83894001e-01, 5.71482136e-01,\n",
      "       5.73058006e-01, 7.65220708e-01, 9.50188017e-01, 2.26872478e+00,\n",
      "       2.79329338e+00, 4.10239779e+00, 4.94485955e+00, 6.02694405e+00,\n",
      "       7.02397437e+00, 8.90948465e+00, 1.16201458e+01, 1.30797197e+01,\n",
      "       1.51823694e+01, 1.67330310e+01, 2.00963885e+01, 2.23106897e+01,\n",
      "       2.38856380e+01, 2.57800504e+01, 2.76774193e+01, 2.84686713e+01,\n",
      "       2.99407381e+01, 3.15724688e+01, 3.35167541e+01, 3.50391285e+01,\n",
      "       3.65789745e+01, 3.82587954e+01, 4.27403201e+01, 4.45274774e+01,\n",
      "       4.68784194e+01, 4.92543404e+01, 5.11917507e+01, 5.28499063e+01,\n",
      "       5.45355427e+01, 5.60476951e+01, 5.75441691e+01, 5.91429467e+01,\n",
      "       6.10774760e+01, 6.38928646e+01, 6.72203353e+01, 7.25799391e+01,\n",
      "       7.53441337e+01, 7.82202281e+01, 8.08598554e+01, 8.36929894e+01,\n",
      "       9.07972316e+01, 1.00615063e+02, 1.05733027e+02, 1.10046167e+02,\n",
      "       1.13003154e+02, 1.16044417e+02, 1.19598637e+02, 1.22925142e+02,\n",
      "       1.26114600e+02, 1.29193652e+02, 1.31867752e+02, 1.35057642e+02,\n",
      "       1.38344094e+02, 1.40887121e+02, 1.42858148e+02, 1.44356441e+02,\n",
      "       1.45868411e+02, 1.47566718e+02, 1.49292560e+02, 1.50946152e+02,\n",
      "       1.52892255e+02, 1.54772365e+02, 1.55787180e+02, 1.57440235e+02,\n",
      "       1.58545320e+02, 1.60134605e+02, 1.61749923e+02, 1.63641616e+02,\n",
      "       1.65800301e+02, 1.68560893e+02, 1.71425467e+02, 1.74335547e+02,\n",
      "       1.77200276e+02, 1.80728582e+02, 1.84918674e+02, 1.89218657e+02,\n",
      "       1.96381089e+02, 2.04049597e+02, 2.08166740e+02, 2.11330937e+02,\n",
      "       2.14101035e+02, 2.16711285e+02, 2.19182616e+02, 2.22032073e+02,\n",
      "       2.24632908e+02, 2.27205027e+02, 2.29910523e+02, 2.32382550e+02,\n",
      "       2.35121196e+02, 2.37968652e+02, 2.40496873e+02, 2.42604844e+02,\n",
      "       2.44314865e+02, 2.45855658e+02, 2.47004905e+02, 2.48206919e+02,\n",
      "       2.49615967e+02, 2.51014461e+02, 2.52270828e+02, 2.49807740e+02,\n",
      "       2.51493260e+02, 2.56288307e+02, 2.58077785e+02, 2.60059085e+02,\n",
      "       2.61994436e+02, 2.63851279e+02, 2.65643050e+02, 2.67643469e+02,\n",
      "       2.69710794e+02, 2.71775622e+02, 2.73848892e+02, 2.75854888e+02,\n",
      "       2.77821695e+02, 2.79747210e+02, 2.81802492e+02, 2.84072912e+02,\n",
      "       2.86332825e+02, 2.90381618e+02, 2.95435842e+02, 2.98069412e+02,\n",
      "       3.00343536e+02, 3.02383725e+02, 3.04372811e+02, 3.06418561e+02,\n",
      "       3.08496588e+02, 3.10422259e+02, 3.12285698e+02, 3.14106408e+02,\n",
      "       3.15862702e+02, 3.17464978e+02, 3.19014657e+02, 3.20489490e+02,\n",
      "       3.21908168e+02, 3.23458640e+02, 3.25079949e+02, 3.26648022e+02,\n",
      "       3.28111914e+02, 3.29576359e+02]), 'tree_id': array([  245584.,   429422.,   662436.,   943393.,  1268335.,  1630989.,\n",
      "        2024644.,  2443489.,  2882121.,  3335929.,  3799449.,  4270057.,\n",
      "        4744874.,  5221561.,  5698237.,  6173082.,  6644846.,  7112517.,\n",
      "        7575379.,  8033902.,  8488460.,  8937250.,  9385313.,  9832388.,\n",
      "       10270277., 10703808., 11133004., 11557795., 11983565., 12391477.,\n",
      "       12784706., 13151241., 13546688., 13936859., 14322027., 14702855.,\n",
      "       15079715., 15452171., 15819999., 16183352., 16542317., 16896285.,\n",
      "       17245794., 17593165., 17939607., 18280556., 18617212., 18949844.,\n",
      "       19277683., 19601217., 19921325., 20238046., 20550890., 20859915.,\n",
      "       21165159., 21469113., 21771477., 22071082., 22367431., 22662130.,\n",
      "       22955786., 23246780., 23534182., 23819031., 24101450., 24381226.,\n",
      "       24658711., 24933876., 25206629., 25478847., 25750354., 26018843.,\n",
      "       26285671., 26550568., 26813448., 27075152., 27335500., 27595155.,\n",
      "       27852496., 28109295., 28364571., 28619017., 28871405., 29122654.,\n",
      "       29371763., 29618060., 29863104., 30106285., 30347694., 30587919.,\n",
      "       30826875., 31064942., 31302261., 31538532., 31773953., 32008225.,\n",
      "       32242613., 32476365., 32709375., 32942263., 33173907., 33403633.,\n",
      "       33632094., 33860122., 34088464., 34315210., 34540058., 34763081.,\n",
      "       34985771., 35208183., 35429671., 35650468., 35870457., 36089615.,\n",
      "       36307756., 36524955., 36741137., 36956901., 37171660., 37385384.,\n",
      "       37598190., 37809877., 38021368., 38232205., 38442908., 38652870.,\n",
      "       38862066., 39070632., 39278832., 39486693., 39693977., 39900882.,\n",
      "       40107101., 40313174., 40519100., 40724548., 40930328., 41135715.,\n",
      "       41340692., 41545311., 41749909., 41954806., 42158474., 42364837.,\n",
      "       42564237., 42758191.])}\n",
      "\n",
      "1097\n",
      "1575\n",
      "1738\n",
      "2291\n",
      "2339\n",
      "2636\n",
      "3427\n",
      "3431\n",
      "3471\n",
      "3564\n"
     ]
    },
    {
     "ename": "AttributeError",
     "evalue": "'DataFrame' object has no attribute 'rvir'",
     "output_type": "error",
     "traceback": [
      "\u001b[0;31m---------------------------------------------------------------------------\u001b[0m",
      "\u001b[0;31mAttributeError\u001b[0m                            Traceback (most recent call last)",
      "\u001b[0;32m/tmp/ipykernel_2796920/3742533687.py\u001b[0m in \u001b[0;36m?\u001b[0;34m()\u001b[0m\n\u001b[0;32m----> 1\u001b[0;31m \u001b[0mtest_results\u001b[0m \u001b[0;34m=\u001b[0m \u001b[0mbloodhound\u001b[0m\u001b[0;34m.\u001b[0m\u001b[0mmain\u001b[0m\u001b[0;34m(\u001b[0m\u001b[0;34m)\u001b[0m\u001b[0;34m\u001b[0m\u001b[0;34m\u001b[0m\u001b[0m\n\u001b[0m",
      "\u001b[0;32m/scratch/05097/hk9457/pELVIS/z13/bloodhound_subhalo_tracking/Bloodhound/bloodhound.py\u001b[0m in \u001b[0;36m?\u001b[0;34m()\u001b[0m\n\u001b[1;32m    687\u001b[0m     \u001b[0mt_s_analysis\u001b[0m \u001b[0;34m=\u001b[0m \u001b[0mtime\u001b[0m\u001b[0;34m.\u001b[0m\u001b[0mtime\u001b[0m\u001b[0;34m(\u001b[0m\u001b[0;34m)\u001b[0m\u001b[0;34m\u001b[0m\u001b[0;34m\u001b[0m\u001b[0m\n\u001b[1;32m    688\u001b[0m     \u001b[0mtest_result_list\u001b[0m \u001b[0;34m=\u001b[0m \u001b[0;34m[\u001b[0m\u001b[0;34m]\u001b[0m\u001b[0;34m\u001b[0m\u001b[0;34m\u001b[0m\u001b[0m\n\u001b[1;32m    689\u001b[0m     \u001b[0;32mfor\u001b[0m \u001b[0msim_num\u001b[0m \u001b[0;32min\u001b[0m \u001b[0msim_nums\u001b[0m\u001b[0;34m:\u001b[0m\u001b[0;34m\u001b[0m\u001b[0;34m\u001b[0m\u001b[0m\n\u001b[1;32m    690\u001b[0m         \u001b[0;31m### Test ###\u001b[0m\u001b[0;34m\u001b[0m\u001b[0;34m\u001b[0m\u001b[0m\n\u001b[0;32m--> 691\u001b[0;31m         \u001b[0mtest_result\u001b[0m \u001b[0;34m=\u001b[0m \u001b[0msubhalo_analysis_wrapper_function\u001b[0m\u001b[0;34m(\u001b[0m\u001b[0mBH_parameters\u001b[0m\u001b[0;34m,\u001b[0m \u001b[0msim_num\u001b[0m\u001b[0;34m,\u001b[0m \u001b[0msnapnum_info_dict\u001b[0m\u001b[0;34m,\u001b[0m \u001b[0mout_f\u001b[0m\u001b[0;34m)\u001b[0m\u001b[0;34m\u001b[0m\u001b[0;34m\u001b[0m\u001b[0m\n\u001b[0m\u001b[1;32m    692\u001b[0m         \u001b[0mtest_result_list\u001b[0m\u001b[0;34m.\u001b[0m\u001b[0mappend\u001b[0m\u001b[0;34m(\u001b[0m\u001b[0mtest_result\u001b[0m\u001b[0;34m)\u001b[0m\u001b[0;34m\u001b[0m\u001b[0;34m\u001b[0m\u001b[0m\n\u001b[1;32m    693\u001b[0m         \u001b[0;31m### ###\u001b[0m\u001b[0;34m\u001b[0m\u001b[0;34m\u001b[0m\u001b[0m\n\u001b[1;32m    694\u001b[0m         \u001b[0;31m#subhalo_analysis_wrapper_function(BH_parameters, sim_num, snapnum_info_dict, out_f)\u001b[0m\u001b[0;34m\u001b[0m\u001b[0;34m\u001b[0m\u001b[0m\n",
      "\u001b[0;32m/scratch/05097/hk9457/pELVIS/z13/bloodhound_subhalo_tracking/Bloodhound/bloodhound.py\u001b[0m in \u001b[0;36m?\u001b[0;34m(BH_parameters, sim_num, snapnum_info_dict, out_f)\u001b[0m\n\u001b[1;32m    564\u001b[0m     \u001b[0;31m### ###\u001b[0m\u001b[0;34m\u001b[0m\u001b[0;34m\u001b[0m\u001b[0m\n\u001b[1;32m    565\u001b[0m     \u001b[0;32mfor\u001b[0m \u001b[0mi\u001b[0m \u001b[0;32min\u001b[0m \u001b[0mrange\u001b[0m\u001b[0;34m(\u001b[0m\u001b[0mlen\u001b[0m\u001b[0;34m(\u001b[0m\u001b[0msim_types\u001b[0m\u001b[0;34m)\u001b[0m\u001b[0;34m)\u001b[0m\u001b[0;34m:\u001b[0m\u001b[0;34m\u001b[0m\u001b[0;34m\u001b[0m\u001b[0m\n\u001b[1;32m    566\u001b[0m         \u001b[0msim_type\u001b[0m \u001b[0;34m=\u001b[0m \u001b[0msim_types\u001b[0m\u001b[0;34m[\u001b[0m\u001b[0mi\u001b[0m\u001b[0;34m]\u001b[0m\u001b[0;34m\u001b[0m\u001b[0;34m\u001b[0m\u001b[0m\n\u001b[1;32m    567\u001b[0m         \u001b[0;31m# Read in the host halo main branch data.\u001b[0m\u001b[0;34m\u001b[0m\u001b[0;34m\u001b[0m\u001b[0m\n\u001b[0;32m--> 568\u001b[0;31m         \u001b[0mhost_halo_dict\u001b[0m \u001b[0;34m=\u001b[0m \u001b[0mutilities\u001b[0m\u001b[0;34m.\u001b[0m\u001b[0mread_in_host_main_branch_file\u001b[0m\u001b[0;34m(\u001b[0m\u001b[0mhost_halo_dat_fnames\u001b[0m\u001b[0;34m,\u001b[0m \u001b[0msim_num\u001b[0m\u001b[0;34m,\u001b[0m \u001b[0msim_type\u001b[0m\u001b[0;34m,\u001b[0m \u001b[0mBH_parameters\u001b[0m\u001b[0;34m)\u001b[0m\u001b[0;34m\u001b[0m\u001b[0;34m\u001b[0m\u001b[0m\n\u001b[0m\u001b[1;32m    569\u001b[0m         \u001b[0mprint\u001b[0m\u001b[0;34m(\u001b[0m\u001b[0;34m)\u001b[0m\u001b[0;34m\u001b[0m\u001b[0;34m\u001b[0m\u001b[0m\n\u001b[1;32m    570\u001b[0m         \u001b[0mprint\u001b[0m\u001b[0;34m(\u001b[0m\u001b[0;34m\"sim_type:\"\u001b[0m\u001b[0;34m)\u001b[0m\u001b[0;34m\u001b[0m\u001b[0;34m\u001b[0m\u001b[0m\n\u001b[1;32m    571\u001b[0m         \u001b[0mprint\u001b[0m\u001b[0;34m(\u001b[0m\u001b[0mhost_halo_dict\u001b[0m\u001b[0;34m)\u001b[0m\u001b[0;34m\u001b[0m\u001b[0;34m\u001b[0m\u001b[0m\n",
      "\u001b[0;32m/scratch/05097/hk9457/pELVIS/z13/bloodhound_subhalo_tracking/Bloodhound/utilities.py\u001b[0m in \u001b[0;36m?\u001b[0;34m(sim_file_name_dict, sim_num, sim_type, BH_parameters)\u001b[0m\n\u001b[1;32m    618\u001b[0m     \u001b[0mhost_redshift\u001b[0m \u001b[0;34m=\u001b[0m \u001b[0;36m1.\u001b[0m \u001b[0;34m/\u001b[0m \u001b[0mhost_scale\u001b[0m \u001b[0;34m-\u001b[0m \u001b[0;36m1.\u001b[0m\u001b[0;34m\u001b[0m\u001b[0;34m\u001b[0m\u001b[0m\n\u001b[1;32m    619\u001b[0m     \u001b[0mhost_t_cosmic\u001b[0m \u001b[0;34m=\u001b[0m \u001b[0mcosmo\u001b[0m\u001b[0;34m.\u001b[0m\u001b[0mage\u001b[0m\u001b[0;34m(\u001b[0m\u001b[0mhost_redshift\u001b[0m\u001b[0;34m)\u001b[0m\u001b[0;34m.\u001b[0m\u001b[0mvalue\u001b[0m\u001b[0;34m\u001b[0m\u001b[0;34m\u001b[0m\u001b[0m\n\u001b[1;32m    620\u001b[0m     \u001b[0mhost_t_lookback\u001b[0m \u001b[0;34m=\u001b[0m \u001b[0mcosmo\u001b[0m\u001b[0;34m.\u001b[0m\u001b[0mlookback_time\u001b[0m\u001b[0;34m(\u001b[0m\u001b[0mhost_redshift\u001b[0m\u001b[0;34m)\u001b[0m\u001b[0;34m.\u001b[0m\u001b[0mvalue\u001b[0m\u001b[0;34m\u001b[0m\u001b[0;34m\u001b[0m\u001b[0m\n\u001b[1;32m    621\u001b[0m     \u001b[0mhost_vmax\u001b[0m \u001b[0;34m=\u001b[0m \u001b[0mnp\u001b[0m\u001b[0;34m.\u001b[0m\u001b[0mflip\u001b[0m\u001b[0;34m(\u001b[0m\u001b[0mhost_main_branch_file\u001b[0m\u001b[0;34m.\u001b[0m\u001b[0mvmax\u001b[0m\u001b[0;34m.\u001b[0m\u001b[0mvalues\u001b[0m\u001b[0;34m)\u001b[0m\u001b[0;34m\u001b[0m\u001b[0;34m\u001b[0m\u001b[0m\n\u001b[0;32m--> 622\u001b[0;31m     \u001b[0mhost_rvir\u001b[0m \u001b[0;34m=\u001b[0m \u001b[0mnp\u001b[0m\u001b[0;34m.\u001b[0m\u001b[0mflip\u001b[0m\u001b[0;34m(\u001b[0m\u001b[0mhost_main_branch_file\u001b[0m\u001b[0;34m.\u001b[0m\u001b[0mrvir\u001b[0m\u001b[0;34m.\u001b[0m\u001b[0mvalues\u001b[0m\u001b[0;34m/\u001b[0m\u001b[0mh\u001b[0m\u001b[0;34m)\u001b[0m\u001b[0;34m\u001b[0m\u001b[0;34m\u001b[0m\u001b[0m\n\u001b[0m\u001b[1;32m    623\u001b[0m     \u001b[0mhost_rvir_pkpc\u001b[0m \u001b[0;34m=\u001b[0m \u001b[0mnp\u001b[0m\u001b[0;34m.\u001b[0m\u001b[0mmultiply\u001b[0m\u001b[0;34m(\u001b[0m\u001b[0mhost_rvir\u001b[0m\u001b[0;34m,\u001b[0m \u001b[0mhost_scale\u001b[0m\u001b[0;34m)\u001b[0m\u001b[0;34m\u001b[0m\u001b[0;34m\u001b[0m\u001b[0m\n\u001b[1;32m    624\u001b[0m     \u001b[0mhost_tid\u001b[0m \u001b[0;34m=\u001b[0m \u001b[0mnp\u001b[0m\u001b[0;34m.\u001b[0m\u001b[0mflip\u001b[0m\u001b[0;34m(\u001b[0m\u001b[0mhost_main_branch_file\u001b[0m\u001b[0;34m.\u001b[0m\u001b[0mid\u001b[0m\u001b[0;34m.\u001b[0m\u001b[0mvalues\u001b[0m\u001b[0;34m)\u001b[0m\u001b[0;34m\u001b[0m\u001b[0;34m\u001b[0m\u001b[0m\n\u001b[1;32m    625\u001b[0m     \u001b[0;31m#\u001b[0m\u001b[0;34m\u001b[0m\u001b[0;34m\u001b[0m\u001b[0m\n",
      "\u001b[0;32m~/.conda/envs/my_env/lib/python3.9/site-packages/pandas/core/generic.py\u001b[0m in \u001b[0;36m?\u001b[0;34m(self, name)\u001b[0m\n\u001b[1;32m   5898\u001b[0m             \u001b[0;32mand\u001b[0m \u001b[0mname\u001b[0m \u001b[0;32mnot\u001b[0m \u001b[0;32min\u001b[0m \u001b[0mself\u001b[0m\u001b[0;34m.\u001b[0m\u001b[0m_accessors\u001b[0m\u001b[0;34m\u001b[0m\u001b[0;34m\u001b[0m\u001b[0m\n\u001b[1;32m   5899\u001b[0m             \u001b[0;32mand\u001b[0m \u001b[0mself\u001b[0m\u001b[0;34m.\u001b[0m\u001b[0m_info_axis\u001b[0m\u001b[0;34m.\u001b[0m\u001b[0m_can_hold_identifiers_and_holds_name\u001b[0m\u001b[0;34m(\u001b[0m\u001b[0mname\u001b[0m\u001b[0;34m)\u001b[0m\u001b[0;34m\u001b[0m\u001b[0;34m\u001b[0m\u001b[0m\n\u001b[1;32m   5900\u001b[0m         ):\n\u001b[1;32m   5901\u001b[0m             \u001b[0;32mreturn\u001b[0m \u001b[0mself\u001b[0m\u001b[0;34m[\u001b[0m\u001b[0mname\u001b[0m\u001b[0;34m]\u001b[0m\u001b[0;34m\u001b[0m\u001b[0;34m\u001b[0m\u001b[0m\n\u001b[0;32m-> 5902\u001b[0;31m         \u001b[0;32mreturn\u001b[0m \u001b[0mobject\u001b[0m\u001b[0;34m.\u001b[0m\u001b[0m__getattribute__\u001b[0m\u001b[0;34m(\u001b[0m\u001b[0mself\u001b[0m\u001b[0;34m,\u001b[0m \u001b[0mname\u001b[0m\u001b[0;34m)\u001b[0m\u001b[0;34m\u001b[0m\u001b[0;34m\u001b[0m\u001b[0m\n\u001b[0m",
      "\u001b[0;31mAttributeError\u001b[0m: 'DataFrame' object has no attribute 'rvir'"
     ]
    }
   ],
   "source": [
    "test_results = bloodhound.main()"
   ]
  },
  {
   "cell_type": "code",
   "execution_count": null,
   "metadata": {},
   "outputs": [],
   "source": [
    "test_results[0][0].keys()"
   ]
  },
  {
   "cell_type": "code",
   "execution_count": null,
   "metadata": {},
   "outputs": [],
   "source": [
    "small_halo_idx = []\n",
    "large_halo_idx = []\n",
    "for i in range(len(test_results[0])):\n",
    "    num_part = test_results[0][i]['number.of.particles']\n",
    "    if num_part < 200:\n",
    "        small_halo_idx.append(i)\n",
    "    elif num_part > 1500:\n",
    "        large_halo_idx.append(i)\n",
    "print(small_halo_idx)\n",
    "print(large_halo_idx)\n",
    "        "
   ]
  },
  {
   "cell_type": "code",
   "execution_count": null,
   "metadata": {},
   "outputs": [],
   "source": [
    "idx_use = 17\n",
    "small_halo_idx_use = small_halo_idx[idx_use]\n",
    "test_halo_small = test_results[0][small_halo_idx_use]\n",
    "print(small_halo_idx_use, test_halo_small[\"ID.halo.infall\"])\n",
    "idx_use = 5\n",
    "large_halo_idx_use = large_halo_idx[idx_use]\n",
    "#large_halo_idx_use = 45\n",
    "#12\n",
    "test_halo_large = test_results[0][large_halo_idx_use]\n",
    "print(large_halo_idx_use, test_halo_large[\"ID.halo.infall\"])"
   ]
  },
  {
   "cell_type": "code",
   "execution_count": null,
   "metadata": {},
   "outputs": [],
   "source": [
    "print(len(test_halo_small['coordinates'][0]))\n",
    "print(len(test_halo_large['coordinates'][0]))\n"
   ]
  },
  {
   "cell_type": "code",
   "execution_count": null,
   "metadata": {},
   "outputs": [],
   "source": [
    "fig, ax = plt.subplots(figsize=(5, 5))\n",
    "snap_idx = 0\n",
    "ax.plot(test_halo_large['test.sorted.pdist.array'][snap_idx],\n",
    "        test_halo_large['test.vcirc.array'][snap_idx])\n",
    "#print(test_halo['test.sorted.pdist.array'][snap_idx])\n",
    "ax.set(xscale='log')"
   ]
  },
  {
   "cell_type": "code",
   "execution_count": null,
   "metadata": {},
   "outputs": [],
   "source": [
    "fig, ax = plt.subplots(figsize=(5, 5))\n",
    "snap_idx = 4\n",
    "ax.plot(test_halo_small['test.sorted.pdist.array'][snap_idx],\n",
    "        test_halo_small['test.vcirc.array'][snap_idx])\n",
    "#print(test_halo['test.sorted.pdist.array'][snap_idx])\n",
    "ax.set(xscale='log')"
   ]
  },
  {
   "cell_type": "code",
   "execution_count": null,
   "metadata": {},
   "outputs": [],
   "source": [
    "fig, ax = plt.subplots(figsize=(5, 5))\n",
    "snap_idx = 0\n",
    "print(test_halo_large[\"ID.halo.infall\"])\n",
    "ax.plot(test_halo_large['test.bin.mid.array'][snap_idx],\n",
    "        test_halo_large['test.density.array'][snap_idx],\n",
    "       c='black')\n",
    "snap_idx = 1\n",
    "ax.plot(test_halo_large['test.bin.mid.array'][snap_idx],\n",
    "        test_halo_large['test.density.array'][snap_idx],\n",
    "       c='red')\n",
    "ax.set(yscale='log', xscale='log')\n",
    "print(len(test_halo_large['test.bin.mid.array'][snap_idx]))\n",
    "print(test_halo_large['test.local.min.idx.all'][snap_idx])"
   ]
  },
  {
   "cell_type": "code",
   "execution_count": null,
   "metadata": {},
   "outputs": [],
   "source": [
    "fig, ax = plt.subplots(figsize=(5, 5))\n",
    "snap_idx = 0\n",
    "ax.plot(test_halo_large['test.bin.mid.array'][snap_idx],\n",
    "        test_halo_large['test.rho.r.squared.array'][snap_idx],\n",
    "       c='black')\n",
    "snap_idx = 3\n",
    "ax.plot(test_halo_large['test.bin.mid.array'][snap_idx],\n",
    "        test_halo_large['test.rho.r.squared.array'][snap_idx],\n",
    "       c='red')\n",
    "ax.set(yscale='log', xscale='log')\n",
    "#print(test_halo_large['test.bin.mid.array'][snap_idx][19])\n",
    "print(test_halo_large['test.rho.r.squared.array'][snap_idx])\n",
    "print(test_halo_large['test.rho.r.squared.array'][snap_idx][test_halo_large['test.local.min.idx.all'][snap_idx]])\n",
    "print(test_halo_large['test.local.min.idx.all'][snap_idx])\n",
    "print(len(test_halo_large['test.bin.mid.array'][snap_idx]))\n",
    "print(test_halo_large['test.bin.mid.array'][snap_idx])"
   ]
  },
  {
   "cell_type": "code",
   "execution_count": null,
   "metadata": {},
   "outputs": [],
   "source": [
    "fig, ax = plt.subplots(figsize=(5, 5))\n",
    "snap_idx = 0\n",
    "ax.plot(test_halo_small['test.bin.mid.array'][snap_idx],\n",
    "        test_halo_small['test.density.array'][snap_idx],\n",
    "       c='black')\n",
    "snap_idx = 4\n",
    "ax.plot(test_halo_small['test.bin.mid.array'][snap_idx],\n",
    "        test_halo_small['test.density.array'][snap_idx],\n",
    "       c='red')\n",
    "ax.set(yscale='log', xscale='log')\n",
    "print(len(test_halo_small['test.bin.mid.array'][snap_idx]))"
   ]
  },
  {
   "cell_type": "code",
   "execution_count": null,
   "metadata": {},
   "outputs": [],
   "source": [
    "fig, ax = plt.subplots(figsize=(5, 5))\n",
    "snap_idx = 0\n",
    "ax.plot(test_halo_small['test.bin.mid.array'][snap_idx],\n",
    "        test_halo_small['test.rho.r.squared.array'][snap_idx],\n",
    "       c='black')\n",
    "snap_idx = 4\n",
    "ax.plot(test_halo_small['test.bin.mid.array'][snap_idx],\n",
    "        test_halo_small['test.rho.r.squared.array'][snap_idx],\n",
    "       c='red')\n",
    "ax.set(yscale='log', xscale='log')\n",
    "print(test_halo_small['test.rho.r.squared.array'][0])\n",
    "print(test_halo_small['test.rho.r.squared.array'][snap_idx][test_halo_small['test.local.min.idx.all'][snap_idx]])\n",
    "print(test_halo_small['test.local.min.idx.all'][snap_idx])\n",
    "print(len(test_halo_small['test.bin.mid.array'][snap_idx]))"
   ]
  },
  {
   "cell_type": "code",
   "execution_count": null,
   "metadata": {},
   "outputs": [],
   "source": [
    "np.sort(test_halo_large['scale.factor'][0] * np.linalg.norm(test_halo_large['coordinates'][0] - test_halo_large['com.most.bound'][0], None, 1))"
   ]
  },
  {
   "cell_type": "code",
   "execution_count": null,
   "metadata": {},
   "outputs": [],
   "source": [
    "fig, ax = plt.subplots(figsize=(5, 5))\n",
    "snap_idx = 0\n",
    "print(test_halo_large['scale.factor'])\n",
    "most_bound_idx = test_halo_large['most.bound.indices']\n",
    "ax.plot(test_halo_large['coordinates'][snap_idx][:,0],\n",
    "       test_halo_large['coordinates'][snap_idx][:,1],\n",
    "       'o', c='black', alpha=0.5, markersize=1.)\n",
    "ax.plot(test_halo_large['coordinates'][snap_idx][most_bound_idx][:,0],\n",
    "       test_halo_large['coordinates'][snap_idx][most_bound_idx][:,1],\n",
    "       'o', c='cyan', alpha=0.5, markersize=3.)\n",
    "ax.plot(test_halo_large['com'][snap_idx][0],\n",
    "        test_halo_large['com'][snap_idx][1],\n",
    "        '^', c='green', markersize=7.)\n",
    "ax.plot(test_halo_large['com.most.bound'][snap_idx][0],\n",
    "        test_halo_large['com.most.bound'][snap_idx][1],\n",
    "        '*', c='red', markersize=7.)\n",
    "print(len(test_halo_large['coordinates'][snap_idx][most_bound_idx]))\n"
   ]
  },
  {
   "cell_type": "code",
   "execution_count": null,
   "metadata": {},
   "outputs": [],
   "source": [
    "fig, ax = plt.subplots(figsize=(5, 5))\n",
    "snap_idx = 4\n",
    "#print(test_halo_small['scale.factor'])\n",
    "most_bound_idx = test_halo_small['most.bound.indices']\n",
    "ax.plot(test_halo_small['coordinates'][snap_idx][:,0],\n",
    "       test_halo_small['coordinates'][snap_idx][:,1],\n",
    "       'o', c='black', alpha=0.5, markersize=1.)\n",
    "ax.plot(test_halo_small['coordinates'][snap_idx][most_bound_idx][:,0],\n",
    "       test_halo_small['coordinates'][snap_idx][most_bound_idx][:,1],\n",
    "       'o', c='cyan', alpha=0.5, markersize=3.)\n",
    "ax.plot(test_halo_small['com'][snap_idx][0],\n",
    "        test_halo_small['com'][snap_idx][1],\n",
    "        '^', c='green', markersize=7.)\n",
    "ax.plot(test_halo_small['com.most.bound'][snap_idx][0],\n",
    "        test_halo_small['com.most.bound'][snap_idx][1],\n",
    "        '*', c='red', markersize=7.)\n",
    "print(len(test_halo_small['coordinates'][snap_idx][most_bound_idx]))"
   ]
  },
  {
   "cell_type": "code",
   "execution_count": null,
   "metadata": {},
   "outputs": [],
   "source": [
    "fig, ax = plt.subplots(figsize=(5, 5))\n",
    "snap_idx = 0\n",
    "ax.plot(test_halo_large['coordinates'][snap_idx][:10,0],\n",
    "       test_halo_large['coordinates'][snap_idx][:10,1],\n",
    "       'o', c='black', alpha=0.5, markersize=1.)\n",
    "for i in range(5):\n",
    "    ax.plot(test_halo_large['coordinates'][i][0,0],\n",
    "           test_halo_large['coordinates'][i][0,1],\n",
    "           'o')\n",
    "    ax.plot(test_halo_large['coordinates'][i][1,0],\n",
    "           test_halo_large['coordinates'][i][1,1],\n",
    "           'o', c='black')\n",
    "    ax.plot(test_halo_large['coordinates'][i][2,0],\n",
    "           test_halo_large['coordinates'][i][2,1],\n",
    "           'o', c='black')\n",
    "    ax.plot(test_halo_large['coordinates'][i][5,0],\n",
    "           test_halo_large['coordinates'][i][5,1],\n",
    "           'o', c='black')"
   ]
  },
  {
   "cell_type": "code",
   "execution_count": null,
   "metadata": {},
   "outputs": [],
   "source": [
    "len(test_halo_large['coordinates'])"
   ]
  },
  {
   "cell_type": "code",
   "execution_count": null,
   "metadata": {},
   "outputs": [],
   "source": [
    "def sort_particle_by_dist(coords, com):\n",
    "    part_dist = np.linalg.norm(coords - com, None, 1)\n",
    "    # Sort the distance array\n",
    "    sort_idx = np.argsort(part_dist)\n",
    "    sorted_part_dist = part_dist[sort_idx]\n",
    "    return(sorted_part_dist, sort_idx)"
   ]
  },
  {
   "cell_type": "code",
   "execution_count": null,
   "metadata": {},
   "outputs": [],
   "source": [
    "fig, ax = plt.subplots(figsize=(5, 5))\n",
    "for i in range(5):\n",
    "    if i == 0:\n",
    "        coords = test_halo_large['coordinates'][i]\n",
    "        \n",
    "        com = test_halo_large['com.most.bound'][i]\n",
    "        sorted_part_dist, sort_idx = sort_particle_by_dist(coords, com)\n",
    "        slice_idx = np.searchsorted(sorted_part_dist, 25)\n",
    "        first_sort_idx = sort_idx\n",
    "        print(len(coords))\n",
    "        print(sorted_part_dist[-50:])\n",
    "        print(np.max(sorted_part_dist))\n",
    "        print()\n",
    "    else:\n",
    "        coords = test_halo_large['coordinates'][i]\n",
    "        com = test_halo_large['com.most.bound'][i]\n",
    "        sorted_part_dist, sort_idx = sort_particle_by_dist(coords, com)\n",
    "        slice_idx = np.searchsorted(sorted_part_dist, 25)\n",
    "        idx_outside_current = sort_idx[slice_idx:]\n",
    "        print(sorted_part_dist[-55:])\n",
    "        print(np.sort(idx_outside_prev))\n",
    "        print(np.sort(idx_outside_current))\n",
    "        print(\"overlap:\")\n",
    "        print(np.intersect1d(idx_outside_prev, idx_outside_current))\n",
    "        print()\n",
    "    sort_idx_use = sort_idx[:slice_idx]\n",
    "    idx_outside_prev = sort_idx[slice_idx:]\n",
    "    \n",
    "    #print(len(coords))\n",
    "    #print(slice_idx, sorted_part_dist[slice_idx-1])"
   ]
  },
  {
   "cell_type": "code",
   "execution_count": null,
   "metadata": {},
   "outputs": [],
   "source": [
    "for i in range(5):\n",
    "    if i == 0:\n",
    "        coords = test_halo_large['coordinates'][i]\n",
    "        com = test_halo_large['com.most.bound'][i]\n",
    "        sorted_part_dist, sort_idx = sort_particle_by_dist(coords, com)\n",
    "        slice_idx = np.searchsorted(sorted_part_dist, 10)\n",
    "        first_sort_idx = sort_idx\n",
    "    else:\n",
    "        coords = test_halo_large['coordinates'][i]\n",
    "        com = test_halo_large['com.most.bound'][i]"
   ]
  },
  {
   "cell_type": "code",
   "execution_count": null,
   "metadata": {},
   "outputs": [],
   "source": [
    "test_results[0][0].keys()"
   ]
  },
  {
   "cell_type": "code",
   "execution_count": null,
   "metadata": {},
   "outputs": [],
   "source": [
    "idx = 0\n",
    "test_halo = test_results[0][idx]\n",
    "for i in range(5):\n",
    "    coords = test_halo['coordinates'][i]\n",
    "    com = test_halo['com.most.bound'][i]\n",
    "    sorted_part_dist, sort_idx = sort_particle_by_dist(coords, com)\n",
    "    difference_btw_elems = sorted_part_dist[1:] - sorted_part_dist[:-1]\n",
    "    big_diff_idx = np.where(difference_btw_elems > 0.1)[0]\n",
    "    print(sorted_part_dist[[big_diff_idx[0]-1, big_diff_idx[0], big_diff_idx[0]+1, big_diff_idx[0]+2, big_diff_idx[0]+3]])"
   ]
  },
  {
   "cell_type": "code",
   "execution_count": null,
   "metadata": {},
   "outputs": [],
   "source": [
    "fig, ax = plt.subplots(figsize=(5, 5))\n",
    "# 37, 38, 40\n",
    "halo_idx = 37\n",
    "snap_idx = 2\n",
    "test_halo = test_results[0][halo_idx]\n",
    "print(f\"* Halo ID: {test_halo['ID.halo.infall']}\")\n",
    "print(len(test_halo['test.sorted.pdist.array'][snap_idx]))\n",
    "\n",
    "ax.plot(test_halo['test.sorted.pdist.array'][snap_idx],\n",
    "        test_halo['test.sorted.pdist.array'][snap_idx],\n",
    "        'o', markersize=2., c='black')"
   ]
  },
  {
   "cell_type": "code",
   "execution_count": null,
   "metadata": {},
   "outputs": [],
   "source": [
    "fig, ax = plt.subplots(figsize=(5, 5))\n",
    "#'com.most.bound'\n",
    "# 'coordinates'\n",
    "print(len(test_halo['coordinates'][snap_idx]))\n",
    "ax.plot(test_halo['coordinates'][snap_idx][:,0] - test_halo['com.most.bound'][snap_idx][0],\n",
    "        test_halo['coordinates'][snap_idx][:,1] - test_halo['com.most.bound'][snap_idx][1],\n",
    "        'o', markersize=1., c='black')\n",
    "\n",
    "print(np.sort(test_halo['scale.factor'][snap_idx] * np.linalg.norm(test_halo['coordinates'][snap_idx]-test_halo['com.most.bound'][snap_idx], None, 1)))\n",
    "print(test_halo['test.sorted.pdist.array'][snap_idx])\n",
    "#"
   ]
  },
  {
   "cell_type": "code",
   "execution_count": null,
   "metadata": {},
   "outputs": [],
   "source": [
    "fig, ax = plt.subplots(figsize=(5, 5))\n",
    "c_list = ['black', 'red', 'yellow', 'green', 'purple', 'black', 'red', 'yellow', 'green', 'purple']\n",
    "for i in range(10):\n",
    "    current_halo = test_results[0][i]\n",
    "    current_halo_vels = current_halo['halo.velocity'][:5]\n",
    "    current_color = c_list[i]\n",
    "    for j in range(len(current_halo_vels)):\n",
    "        ax.plot(current_halo_vels[j][0], \n",
    "                current_halo_vels[j][1],\n",
    "                'o', c=current_color, markersize=(j+1)*2)"
   ]
  },
  {
   "cell_type": "code",
   "execution_count": null,
   "metadata": {},
   "outputs": [],
   "source": [
    "test_halo = test_results[0][0]\n",
    "test_halo.keys()"
   ]
  },
  {
   "cell_type": "code",
   "execution_count": null,
   "metadata": {},
   "outputs": [],
   "source": [
    "test_halo['vmax']"
   ]
  },
  {
   "cell_type": "code",
   "execution_count": null,
   "metadata": {},
   "outputs": [],
   "source": [
    "test_halo['rmax']"
   ]
  },
  {
   "cell_type": "code",
   "execution_count": null,
   "metadata": {},
   "outputs": [],
   "source": [
    "test_halo['cv']"
   ]
  },
  {
   "cell_type": "code",
   "execution_count": null,
   "metadata": {},
   "outputs": [],
   "source": [
    "test_halo['r.boundary']"
   ]
  },
  {
   "cell_type": "code",
   "execution_count": null,
   "metadata": {},
   "outputs": [],
   "source": [
    "test_halo['halo.velocity']"
   ]
  },
  {
   "cell_type": "code",
   "execution_count": null,
   "metadata": {},
   "outputs": [],
   "source": [
    "print(np.array(test_halo['halo.velocity']))"
   ]
  },
  {
   "cell_type": "code",
   "execution_count": null,
   "metadata": {},
   "outputs": [],
   "source": [
    "test_halo['halo.velocity'][0]"
   ]
  },
  {
   "cell_type": "code",
   "execution_count": null,
   "metadata": {},
   "outputs": [],
   "source": [
    "test_halo['com.most.bound'][0]"
   ]
  }
 ],
 "metadata": {
  "kernelspec": {
   "display_name": "Python 3 (my_env)",
   "language": "python",
   "name": "my_env"
  },
  "language_info": {
   "codemirror_mode": {
    "name": "ipython",
    "version": 3
   },
   "file_extension": ".py",
   "mimetype": "text/x-python",
   "name": "python",
   "nbconvert_exporter": "python",
   "pygments_lexer": "ipython3",
   "version": "3.9.18"
  }
 },
 "nbformat": 4,
 "nbformat_minor": 4
}
