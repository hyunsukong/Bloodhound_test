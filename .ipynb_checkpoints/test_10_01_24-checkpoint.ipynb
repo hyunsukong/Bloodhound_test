{
 "cells": [
  {
   "cell_type": "code",
   "execution_count": 1,
   "id": "14e69644-b8d6-4483-8032-750567caafbc",
   "metadata": {},
   "outputs": [],
   "source": [
    "from matplotlib import pyplot as plt\n",
    "import bloodhound\n",
    "import importlib\n",
    "import numpy as np"
   ]
  },
  {
   "cell_type": "code",
   "execution_count": 2,
   "id": "41fd60fe-96e2-4d9b-9e44-218268c4f6fb",
   "metadata": {
    "scrolled": true
   },
   "outputs": [
    {
     "ename": "KeyboardInterrupt",
     "evalue": "",
     "output_type": "error",
     "traceback": [
      "\u001b[0;31m---------------------------------------------------------------------------\u001b[0m",
      "\u001b[0;31mKeyboardInterrupt\u001b[0m                         Traceback (most recent call last)",
      "Cell \u001b[0;32mIn[2], line 1\u001b[0m\n\u001b[0;32m----> 1\u001b[0m \u001b[43mbloodhound\u001b[49m\u001b[38;5;241;43m.\u001b[39;49m\u001b[43mmain\u001b[49m\u001b[43m(\u001b[49m\u001b[43m)\u001b[49m\n",
      "File \u001b[0;32m/scratch/05097/hk9457/FIREII/m12c_r7100/bloodhound_subhalo_tracking/bloodhound_test/bloodhound.py:698\u001b[0m, in \u001b[0;36mmain\u001b[0;34m()\u001b[0m\n\u001b[1;32m    696\u001b[0m     infall_information_dict \u001b[38;5;241m=\u001b[39m initialize_halo_tracking(BH_parameters, sim_num, out_f)\n\u001b[1;32m    697\u001b[0m \u001b[38;5;28;01melif\u001b[39;00m BH_parameters[\u001b[38;5;124m'\u001b[39m\u001b[38;5;124msimulation_name\u001b[39m\u001b[38;5;124m'\u001b[39m] \u001b[38;5;241m==\u001b[39m \u001b[38;5;124m'\u001b[39m\u001b[38;5;124mFIRE\u001b[39m\u001b[38;5;124m'\u001b[39m:\n\u001b[0;32m--> 698\u001b[0m     infall_information_dict \u001b[38;5;241m=\u001b[39m \u001b[43minitialize_halo_tracking_FIRE\u001b[49m\u001b[43m(\u001b[49m\u001b[43mBH_parameters\u001b[49m\u001b[43m,\u001b[49m\u001b[43m \u001b[49m\u001b[43msim_num\u001b[49m\u001b[43m,\u001b[49m\u001b[43m \u001b[49m\u001b[43mout_f\u001b[49m\u001b[43m)\u001b[49m\n\u001b[1;32m    699\u001b[0m t_e_step \u001b[38;5;241m=\u001b[39m time\u001b[38;5;241m.\u001b[39mtime()\n\u001b[1;32m    700\u001b[0m \u001b[38;5;28mprint\u001b[39m(\u001b[38;5;124m\"\u001b[39m\u001b[38;5;124m### Initializing halo tracking finished! ###\u001b[39m\u001b[38;5;124m\"\u001b[39m, flush\u001b[38;5;241m=\u001b[39m\u001b[38;5;28;01mTrue\u001b[39;00m, file\u001b[38;5;241m=\u001b[39mout_f)\n",
      "File \u001b[0;32m/scratch/05097/hk9457/FIREII/m12c_r7100/bloodhound_subhalo_tracking/bloodhound_test/bloodhound.py:344\u001b[0m, in \u001b[0;36minitialize_halo_tracking_FIRE\u001b[0;34m(BH_parameters, sim_num, out_f)\u001b[0m\n\u001b[1;32m    342\u001b[0m t_s_step \u001b[38;5;241m=\u001b[39m time\u001b[38;5;241m.\u001b[39mtime()\n\u001b[1;32m    343\u001b[0m \u001b[38;5;28mprint\u001b[39m(\u001b[38;5;124m\"\u001b[39m\u001b[38;5;124m# Getting the halo particle data for infalling subhalos #\u001b[39m\u001b[38;5;124m\"\u001b[39m, flush\u001b[38;5;241m=\u001b[39m\u001b[38;5;28;01mTrue\u001b[39;00m, file\u001b[38;5;241m=\u001b[39mout_f)\n\u001b[0;32m--> 344\u001b[0m infall_information_dict \u001b[38;5;241m=\u001b[39m \u001b[43mget_infall_particle_IDs\u001b[49m\u001b[43m(\u001b[49m\u001b[43minfall_information_dict\u001b[49m\u001b[43m,\u001b[49m\u001b[43m \u001b[49m\u001b[43mBH_parameters\u001b[49m\u001b[43m,\u001b[49m\u001b[43m \u001b[49m\u001b[43msim_num\u001b[49m\u001b[43m,\u001b[49m\u001b[43m \u001b[49m\u001b[43mout_f\u001b[49m\u001b[43m)\u001b[49m\n\u001b[1;32m    345\u001b[0m t_e_step \u001b[38;5;241m=\u001b[39m time\u001b[38;5;241m.\u001b[39mtime()\n\u001b[1;32m    346\u001b[0m utilities\u001b[38;5;241m.\u001b[39mprint_time_taken(t_s_step, t_e_step, \u001b[38;5;124m\"\u001b[39m\u001b[38;5;124m#\u001b[39m\u001b[38;5;124m\"\u001b[39m, \u001b[38;5;28;01mTrue\u001b[39;00m, out_f)\n",
      "File \u001b[0;32m/scratch/05097/hk9457/FIREII/m12c_r7100/bloodhound_subhalo_tracking/bloodhound_test/bloodhound.py:306\u001b[0m, in \u001b[0;36mget_infall_particle_IDs\u001b[0;34m(infall_information_dict, BH_parameters, sim_num, out_f)\u001b[0m\n\u001b[1;32m    304\u001b[0m t_s_step \u001b[38;5;241m=\u001b[39m time\u001b[38;5;241m.\u001b[39mtime()\n\u001b[1;32m    305\u001b[0m particle_ID_list \u001b[38;5;241m=\u001b[39m get_rockstar_particle_ID_data(catalog_bin_fnames, hID_numP_pairs_df_list, out_f)\n\u001b[0;32m--> 306\u001b[0m t_e_step \u001b[38;5;241m=\u001b[39m \u001b[43mtime\u001b[49m\u001b[38;5;241m.\u001b[39mtime()\n\u001b[1;32m    307\u001b[0m utilities\u001b[38;5;241m.\u001b[39mprint_time_taken(t_s_step, t_e_step, \u001b[38;5;124m\"\u001b[39m\u001b[38;5;124m*\u001b[39m\u001b[38;5;124m\"\u001b[39m ,\u001b[38;5;28;01mTrue\u001b[39;00m, out_f)\n\u001b[1;32m    308\u001b[0m \u001b[38;5;66;03m#\u001b[39;00m\n\u001b[1;32m    309\u001b[0m \u001b[38;5;66;03m# Just in case, check that the number of Rockstar blocks and number of halos are consistent between\u001b[39;00m\n\u001b[1;32m    310\u001b[0m \u001b[38;5;66;03m# the data read in from the .bin file and the .ascii file.\u001b[39;00m\n",
      "\u001b[0;31mKeyboardInterrupt\u001b[0m: "
     ]
    }
   ],
   "source": [
    "bloodhound.main()"
   ]
  }
 ],
 "metadata": {
  "kernelspec": {
   "display_name": "Python 3 (my_env)",
   "language": "python",
   "name": "my_env"
  },
  "language_info": {
   "codemirror_mode": {
    "name": "ipython",
    "version": 3
   },
   "file_extension": ".py",
   "mimetype": "text/x-python",
   "name": "python",
   "nbconvert_exporter": "python",
   "pygments_lexer": "ipython3",
   "version": "3.9.18"
  }
 },
 "nbformat": 4,
 "nbformat_minor": 5
}
