{
 "cells": [
  {
   "cell_type": "code",
   "execution_count": 1,
   "id": "14e69644-b8d6-4483-8032-750567caafbc",
   "metadata": {},
   "outputs": [
    {
     "ename": "SyntaxError",
     "evalue": "invalid syntax (infall_subhalo_criteria.py, line 397)",
     "output_type": "error",
     "traceback": [
      "Traceback \u001b[0;36m(most recent call last)\u001b[0m:\n",
      "\u001b[0m  File \u001b[1;32m~/.local/lib/python3.9/site-packages/IPython/core/interactiveshell.py:3550\u001b[0m in \u001b[1;35mrun_code\u001b[0m\n    exec(code_obj, self.user_global_ns, self.user_ns)\u001b[0m\n",
      "\u001b[0m  Cell \u001b[1;32mIn[1], line 2\u001b[0m\n    import bloodhound\u001b[0m\n",
      "\u001b[0;36m  File \u001b[0;32m/scratch/05097/hk9457/FIREII/m12c_r7100/bloodhound_subhalo_tracking/Bloodhound/bloodhound.py:29\u001b[0;36m\n\u001b[0;31m    import infall_subhalo_criteria\u001b[0;36m\n",
      "\u001b[0;36m  File \u001b[0;32m/scratch/05097/hk9457/FIREII/m12c_r7100/bloodhound_subhalo_tracking/Bloodhound/infall_subhalo_criteria.py:397\u001b[0;36m\u001b[0m\n\u001b[0;31m    nearby_rows = current_subtree[[infall_idx-2:infall_idx+3]]\u001b[0m\n\u001b[0m                                               ^\u001b[0m\n\u001b[0;31mSyntaxError\u001b[0m\u001b[0;31m:\u001b[0m invalid syntax\n"
     ]
    }
   ],
   "source": [
    "from matplotlib import pyplot as plt\n",
    "import bloodhound\n",
    "import importlib\n",
    "import numpy as np"
   ]
  },
  {
   "cell_type": "code",
   "execution_count": null,
   "id": "41fd60fe-96e2-4d9b-9e44-218268c4f6fb",
   "metadata": {
    "scrolled": true
   },
   "outputs": [],
   "source": [
    "bloodhound.main()"
   ]
  }
 ],
 "metadata": {
  "kernelspec": {
   "display_name": "Python 3 (my_env)",
   "language": "python",
   "name": "my_env"
  },
  "language_info": {
   "codemirror_mode": {
    "name": "ipython",
    "version": 3
   },
   "file_extension": ".py",
   "mimetype": "text/x-python",
   "name": "python",
   "nbconvert_exporter": "python",
   "pygments_lexer": "ipython3",
   "version": "3.9.18"
  }
 },
 "nbformat": 4,
 "nbformat_minor": 5
}
