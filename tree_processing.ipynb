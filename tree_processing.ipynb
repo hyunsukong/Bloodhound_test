{
 "cells": [
  {
   "cell_type": "markdown",
   "id": "262f2869-94d6-48e8-8f98-c469ff7aaf3d",
   "metadata": {},
   "source": [
    "# This notebook reads in the merger tree data (tree.hdf5) and makes a few useful, smaller data files."
   ]
  },
  {
   "cell_type": "code",
   "execution_count": 1,
   "id": "45ec2a9f-ebbb-44d1-ab9b-ed15351f6410",
   "metadata": {},
   "outputs": [],
   "source": [
    "import os\n",
    "import sys\n",
    "import pandas as pd\n",
    "pd.set_option('display.max_rows', 600)\n",
    "import numpy as np\n",
    "import h5py\n",
    "import time\n",
    "#from astropy.cosmology import FlatLambdaCDM\n",
    "#from astropy.modeling.physical_models import NFW\n",
    "from IPython.display import display\n",
    "from matplotlib import pyplot as plt"
   ]
  },
  {
   "cell_type": "code",
   "execution_count": 2,
   "id": "e9c01c26-68ad-4a57-84b9-c5db18ab0039",
   "metadata": {},
   "outputs": [],
   "source": [
    "# Define useful global constants.\n",
    "omega_l=0.6879\n",
    "omega_m=0.3121\n",
    "h=0.6751\n",
    "H0=0.1*h  # km / s / kpc\n",
    "part_mass=1.9693723*1e-06*1e10/h\n",
    "G=4.30091*1e-6 # kpc / Msolar (km/s)^2\n",
    "\n",
    "#cosmo = FlatLambdaCDM(H0=67.51, Om0=0.3121, Tcmb0=2.725)\n",
    "#t0 = cosmo.age(0).value"
   ]
  },
  {
   "cell_type": "markdown",
   "id": "f36c6764-fece-49c2-85b4-a354ea65df06",
   "metadata": {},
   "source": [
    "# Input data: file paths etc.\n",
    "- If I make this notebook into a python script, then these will likely be put into a parameter text file."
   ]
  },
  {
   "cell_type": "code",
   "execution_count": 3,
   "id": "a1073144-a2af-42b0-b948-1b6f0344abe5",
   "metadata": {},
   "outputs": [],
   "source": [
    "tree_fpath = \"/scratch/05097/hk9457/FIREII/m12c_r7100/halo/rockstar_dm/catalog_hdf5/tree.hdf5\"\n"
   ]
  },
  {
   "cell_type": "markdown",
   "id": "eb1827d4-c3c3-4044-b6cf-02df78b0a8ca",
   "metadata": {},
   "source": [
    "# Read in the tree file."
   ]
  },
  {
   "cell_type": "code",
   "execution_count": 4,
   "id": "2d89ed09-f441-46e0-b6f8-9b56eeb049ab",
   "metadata": {},
   "outputs": [
    {
     "name": "stdout",
     "output_type": "stream",
     "text": [
      "* First level group names: ['am.phantom', 'am.progenitor.main', 'axis.b_div.by_a', 'axis.c_div.by_a', 'catalog.index', 'central.index', 'central.local.index', 'cosmology:baryon.fraction', 'cosmology:hubble', 'cosmology:n_s', 'cosmology:omega_baryon', 'cosmology:omega_curvature', 'cosmology:omega_dm', 'cosmology:omega_lambda', 'cosmology:omega_matter', 'cosmology:sigma_8', 'cosmology:w', 'descendant.index', 'descendant.snapshot', 'dindex', 'final.index', 'host.distance', 'host.index', 'host.velocity', 'host.velocity.rad', 'host.velocity.tan', 'info:box.length', 'info:box.length_div.by_h', 'major.merger.snapshot', 'mass', 'mass.180m', 'mass.200c', 'mass.200m', 'mass.500c', 'mass.bound', 'mass.lowres', 'mass.vir', 'position', 'position.offset', 'progenitor.co.dindex', 'progenitor.co.index', 'progenitor.last.dindex', 'progenitor.main.index', 'progenitor.main.last.dindex', 'progenitor.number', 'radius', 'scale.radius', 'scale.radius.klypin', 'snapshot', 'spin.bullock', 'spin.peebles', 'tid', 'vel.circ.max', 'vel.std', 'velocity', 'velocity.offset']\n",
      "\n",
      "* Number of halos in the tree data: 93907\n",
      "\n",
      "* Time taken: 1.157 s\n"
     ]
    }
   ],
   "source": [
    "t_s = time.time()\n",
    "mt_hf = h5py.File(tree_fpath, 'r')\n",
    "# Keys\n",
    "first_level_keys = list(mt_hf.keys())\n",
    "final_idx_arr = np.unique(mt_hf['final.index'])\n",
    "# Group the data by 'final.index': this groups tree data halo-by-halo.\n",
    "t_e = time.time()\n",
    "# Print some info.\n",
    "print(f\"* First level group names: {first_level_keys}\")\n",
    "print()\n",
    "print(f\"* Number of halos in the tree data: {len(final_idx_arr)}\")\n",
    "print()\n",
    "print(f\"* Time taken: {t_e - t_s:.3f} s\")"
   ]
  },
  {
   "cell_type": "code",
   "execution_count": 5,
   "id": "377d9f1d-f35e-4732-8b23-92a7edc52a44",
   "metadata": {},
   "outputs": [
    {
     "name": "stdout",
     "output_type": "stream",
     "text": [
      "48624384 48624384 48624383\n",
      "48624384 48624384 64768064\n"
     ]
    }
   ],
   "source": [
    "print(len(mt_hf['dindex']), len(np.unique(mt_hf['dindex'])), np.max(mt_hf['dindex']))\n",
    "print(len(mt_hf['tid']), len(np.unique(mt_hf['tid'])), np.max(mt_hf['tid']))"
   ]
  },
  {
   "cell_type": "markdown",
   "id": "e3705d08-ceff-41d2-a673-ecdc0e9c4621",
   "metadata": {},
   "source": [
    "# Convert the data to a Pandas dataframe."
   ]
  },
  {
   "cell_type": "code",
   "execution_count": 6,
   "id": "ed4ef7cb-f888-4cbd-9253-04005c05a227",
   "metadata": {},
   "outputs": [
    {
     "name": "stdout",
     "output_type": "stream",
     "text": [
      "* Time taken: 24.474 s\n"
     ]
    }
   ],
   "source": [
    "t_s = time.time()\n",
    "mt_dict = {}\n",
    "for i in range(len(first_level_keys)):\n",
    "    dict_key = first_level_keys[i]\n",
    "    # Skip simulation information entries.\n",
    "    if \"cosmology\" in dict_key:\n",
    "        continue\n",
    "    if \"info\" in dict_key:\n",
    "        continue\n",
    "    dict_value = mt_hf[dict_key][:]\n",
    "    if dict_key == 'host.distance':\n",
    "        mt_dict['host.x'] = dict_value[:,0]\n",
    "        mt_dict['host.y'] = dict_value[:,1]\n",
    "        mt_dict['host.z'] = dict_value[:,2]\n",
    "        continue\n",
    "    elif dict_key == 'host.velocity':\n",
    "        mt_dict['host.vx'] = dict_value[:,0]\n",
    "        mt_dict['host.vy'] = dict_value[:,1]\n",
    "        mt_dict['host.vz'] = dict_value[:,2]\n",
    "        continue\n",
    "    elif dict_key == 'position':\n",
    "        mt_dict['x'] = dict_value[:,0]\n",
    "        mt_dict['y'] = dict_value[:,1]\n",
    "        mt_dict['z'] = dict_value[:,2]\n",
    "        continue\n",
    "    elif dict_key == 'velocity':\n",
    "        mt_dict['vx'] = dict_value[:,0]\n",
    "        mt_dict['vy'] = dict_value[:,1]\n",
    "        mt_dict['vz'] = dict_value[:,2]\n",
    "        continue\n",
    "    # Append to dictionary.\n",
    "    mt_dict[dict_key] = dict_value\n",
    "# Convert the dictionary to a Pandas dataframe\n",
    "mt_df = pd.DataFrame.from_dict(mt_dict)\n",
    "t_e = time.time()\n",
    "print(f\"* Time taken: {t_e - t_s:.3f} s\")"
   ]
  },
  {
   "cell_type": "code",
   "execution_count": 7,
   "id": "a446c1fc-3f48-406a-b977-5777d06f1622",
   "metadata": {},
   "outputs": [
    {
     "name": "stdout",
     "output_type": "stream",
     "text": [
      "* Time taken: 0.001 s\n"
     ]
    }
   ],
   "source": [
    "# Group the dataframe by 'final.index': halo-by-halo.\n",
    "t_s = time.time()\n",
    "mt_grouped_by_final_tid = mt_df.groupby(by='final.index')\n",
    "t_e = time.time()\n",
    "print(f\"* Time taken: {t_e - t_s:.3f} s\")"
   ]
  },
  {
   "cell_type": "markdown",
   "id": "eb55caf6-64b6-4547-977c-f6914ee13745",
   "metadata": {},
   "source": [
    "# Get the main branch of all halos."
   ]
  },
  {
   "cell_type": "code",
   "execution_count": 41,
   "id": "0d1f895b-9c47-44bb-abe4-42603f6ad002",
   "metadata": {},
   "outputs": [
    {
     "name": "stdout",
     "output_type": "stream",
     "text": [
      "1000 6.902 s\n",
      "10000 61.515 s\n",
      "30000 183.115 s\n",
      "50000 304.650 s\n",
      "70000 426.078 s\n",
      "90000 546.312 s\n",
      "* Time taken: 570.623 s\n"
     ]
    }
   ],
   "source": [
    "t_s = time.time()\n",
    "main_branch_list = []\n",
    "for i in range(len(final_idx_arr)):\n",
    "    current_ftid = final_idx_arr[i]\n",
    "    # Get the tree data for the current halo.\n",
    "    current_tree = mt_grouped_by_final_tid.get_group(current_ftid)\n",
    "    # Get the main branch for the current halo.\n",
    "    main_progenitor_last_didx = int(current_tree.iloc[0]['progenitor.main.last.dindex'])\n",
    "    main_branch = current_tree.query('`progenitor.main.last.dindex`==@main_progenitor_last_didx')\n",
    "    # Check, just in case, that all elements in the main branch are actually main branch elements.\n",
    "    if len(np.where(main_branch['am.progenitor.main'].values==0)[0]) > 0:\n",
    "        print(\"*** Something wrong: non-main branch element present!\")\n",
    "    # Append to the final list.\n",
    "    main_branch_list.append(main_branch)\n",
    "    if i in [1000, 10000, 30000, 50000, 70000, 90000]:\n",
    "        t_e_check = time.time()\n",
    "        print(i, f\"{t_e_check - t_s:.3f} s\")\n",
    "    tree_tid = int(main_branch['tid'].values[0])\n",
    "    tree_tid_arr = np.full(len(main_branch), fill_value=tree_tid)\n",
    "    # Add a tree ID array.\n",
    "    main_branch.insert(0, \"tree.tid\", tree_tid_arr)\n",
    "t_e = time.time()\n",
    "print(f\"* Time taken: {t_e - t_s:.3f} s\")"
   ]
  },
  {
   "cell_type": "markdown",
   "id": "90f1c559-d100-480c-8f5a-e1e00fa0435a",
   "metadata": {},
   "source": [
    "# Convert the list of main branch dataframes to one big dataframe."
   ]
  },
  {
   "cell_type": "code",
   "execution_count": 42,
   "id": "3875b08f-bdd7-4bad-8423-0e04894dc4ce",
   "metadata": {},
   "outputs": [
    {
     "name": "stdout",
     "output_type": "stream",
     "text": [
      "* Time taken: 58.474 s\n",
      "\n",
      "93907\n",
      "93907\n",
      "37281340\n",
      "Index(['tree.tid', 'am.phantom', 'am.progenitor.main', 'axis.b_div.by_a',\n",
      "       'axis.c_div.by_a', 'catalog.index', 'central.index',\n",
      "       'central.local.index', 'descendant.index', 'descendant.snapshot',\n",
      "       'dindex', 'final.index', 'host.x', 'host.y', 'host.z', 'host.index',\n",
      "       'host.vx', 'host.vy', 'host.vz', 'host.velocity.rad',\n",
      "       'host.velocity.tan', 'major.merger.snapshot', 'mass', 'mass.180m',\n",
      "       'mass.200c', 'mass.200m', 'mass.500c', 'mass.bound', 'mass.lowres',\n",
      "       'mass.vir', 'x', 'y', 'z', 'position.offset', 'progenitor.co.dindex',\n",
      "       'progenitor.co.index', 'progenitor.last.dindex',\n",
      "       'progenitor.main.index', 'progenitor.main.last.dindex',\n",
      "       'progenitor.number', 'radius', 'scale.radius', 'scale.radius.klypin',\n",
      "       'snapshot', 'spin.bullock', 'spin.peebles', 'tid', 'vel.circ.max',\n",
      "       'vel.std', 'vx', 'vy', 'vz', 'velocity.offset'],\n",
      "      dtype='object')\n"
     ]
    }
   ],
   "source": [
    "t_s = time.time()\n",
    "final_main_branch_df = pd.concat(main_branch_list)\n",
    "t_e = time.time()\n",
    "print(f\"* Time taken: {t_e - t_s:.3f} s\")\n",
    "print()\n",
    "print(len(np.unique(final_main_branch_df['final.index'].values)))\n",
    "print(len(np.unique(final_main_branch_df['tree.tid'].values)))\n",
    "print(len(final_main_branch_df))\n",
    "print(final_main_branch_df.columns)"
   ]
  },
  {
   "cell_type": "markdown",
   "id": "83c3fd8d-acc5-4934-85fd-738526f3c808",
   "metadata": {},
   "source": [
    "# Save the main branch data as a .hdf5 file."
   ]
  },
  {
   "cell_type": "code",
   "execution_count": 43,
   "id": "566f3b5c-b5ed-4547-96cb-762a6aebee93",
   "metadata": {},
   "outputs": [
    {
     "name": "stdout",
     "output_type": "stream",
     "text": [
      "* Main branch data saved at:\n",
      "    /scratch/05097/hk9457/FIREII/m12c_r7100/tree_processed_data/main_branches.hdf5\n",
      "\n",
      "* Time taken: 25.532 s\n"
     ]
    }
   ],
   "source": [
    "t_s = time.time()\n",
    "main_branch_out_fname_hdf = \"/scratch/05097/hk9457/FIREII/m12c_r7100/tree_processed_data/main_branches.hdf5\"\n",
    "final_main_branch_df.to_hdf(main_branch_out_fname_hdf, key='df', index=False)\n",
    "t_e = time.time()\n",
    "print(\"* Main branch data saved at:\")\n",
    "print(f\"    {main_branch_out_fname_hdf}\")\n",
    "print()\n",
    "print(f\"* Time taken: {t_e - t_s:.3f} s\")"
   ]
  },
  {
   "cell_type": "markdown",
   "id": "5d63c356-37bd-459d-a0a7-c2f9f2794f37",
   "metadata": {},
   "source": [
    "# Check the saved main branch file."
   ]
  },
  {
   "cell_type": "code",
   "execution_count": 8,
   "id": "c4bfaee4-2437-4b05-953f-523d234f4da4",
   "metadata": {},
   "outputs": [
    {
     "name": "stdout",
     "output_type": "stream",
     "text": [
      "* Time taken: 36.832 s\n"
     ]
    }
   ],
   "source": [
    "t_s = time.time()\n",
    "main_branch_out_fname_hdf = \"/scratch/05097/hk9457/FIREII/m12c_r7100/tree_processed_data/main_branches.hdf5\"\n",
    "saved_main_branch_file_check_df = pd.read_hdf(main_branch_out_fname_hdf)\n",
    "t_e = time.time()\n",
    "print(f\"* Time taken: {t_e - t_s:.3f} s\")"
   ]
  },
  {
   "cell_type": "code",
   "execution_count": 9,
   "id": "034030ea-1217-4cdd-b899-e237f8e7e418",
   "metadata": {},
   "outputs": [
    {
     "data": {
      "text/plain": [
       "array([64689438, 64689438, 64689438, 64689438, 64689438, 64689438,\n",
       "       64689438, 64689438, 64689438, 64689438], dtype=int32)"
      ]
     },
     "execution_count": 9,
     "metadata": {},
     "output_type": "execute_result"
    }
   ],
   "source": [
    "saved_main_branch_file_check_df[:10]['tree.tid'].values"
   ]
  },
  {
   "cell_type": "markdown",
   "id": "6a762011-102f-4f5e-ae4f-3e8361d275e1",
   "metadata": {},
   "source": [
    "# Get the main branch of the host halo."
   ]
  },
  {
   "cell_type": "code",
   "execution_count": 10,
   "id": "8015f2fd-1a99-4051-becc-f764056c179a",
   "metadata": {},
   "outputs": [],
   "source": [
    "host_main_branch = saved_main_branch_file_check_df.query('`final.index`==0')\n",
    "host_main_branch_early_to_late = host_main_branch.iloc[::-1]\n",
    "#print(host_main_branch['final.index'].values[0])\n",
    "#print(host_main_branch['descendant.index'].values)\n",
    "#print(host_main_branch['tid'].values)"
   ]
  },
  {
   "cell_type": "markdown",
   "id": "79acf918-3c14-4229-acea-5f3335ecf06e",
   "metadata": {},
   "source": [
    "# Subtree data\n",
    "- Subhalos that are merged to the main halo, i.e. destroyed subhaloes."
   ]
  },
  {
   "cell_type": "markdown",
   "id": "a21abb73-9fea-4661-b282-3e2f6eeb92fe",
   "metadata": {},
   "source": [
    "# Some checks to make sure I have the correct host halo."
   ]
  },
  {
   "cell_type": "code",
   "execution_count": 11,
   "id": "537fbcf2-fa7d-4d28-a556-81c07ce26559",
   "metadata": {},
   "outputs": [
    {
     "name": "stdout",
     "output_type": "stream",
     "text": [
      "Large! 0\n"
     ]
    }
   ],
   "source": [
    "for i in range(len(final_idx_arr)):\n",
    "    current_ftid = final_idx_arr[i]\n",
    "    # Get the tree data for the current halo.\n",
    "    current_tree = mt_grouped_by_final_tid.get_group(current_ftid)\n",
    "    vcirc_arr = current_tree['vel.circ.max'].values\n",
    "    vcirc_180 = np.where(vcirc_arr > 180.)[0]\n",
    "    if len(vcirc_180) > 0:\n",
    "        print(\"Large!\", current_ftid)"
   ]
  },
  {
   "cell_type": "markdown",
   "id": "efe7d418-ece8-4cf0-97a5-302d8d01e1f9",
   "metadata": {},
   "source": [
    "# Get the full merger tree data for the host halo"
   ]
  },
  {
   "cell_type": "code",
   "execution_count": 12,
   "id": "857635a4-30bf-4e11-9912-4625a89a0465",
   "metadata": {},
   "outputs": [
    {
     "name": "stdout",
     "output_type": "stream",
     "text": [
      "0 918826\n"
     ]
    }
   ],
   "source": [
    "host_halo_ftid = final_idx_arr[0]\n",
    "host_halo_full_tree_df = mt_grouped_by_final_tid.get_group(host_halo_ftid)\n",
    "print(host_halo_ftid, len(host_halo_full_tree_df))"
   ]
  },
  {
   "cell_type": "code",
   "execution_count": 13,
   "id": "c1626d10-c383-471d-a2c0-cb84d600c7d2",
   "metadata": {},
   "outputs": [
    {
     "name": "stdout",
     "output_type": "stream",
     "text": [
      "[ 5  6  7  8  9 10 11 12 13 14]\n"
     ]
    }
   ],
   "source": [
    "# Getting the indices that give the unique snapshot array for the host tree.\n",
    "host_unique_snapnums, host_unique_snapnum_idxs = np.unique(host_halo_full_tree_df['snapshot'].values, return_index=True)\n",
    "# np.unique sorts the array, so flip them again to have them run from late to early times.\n",
    "print(host_unique_snapnums[:10])\n",
    "#host_unique_snapnums = np.flip(host_unique_snapnums)\n",
    "#print(host_unique_snapnums[:10])\n",
    "# host_unique_snapnum_idxs should give the main branch of the host halo: I verified it!\n",
    "#host_unique_snapnum_idxs = np.flip(host_unique_snapnum_idxs)\n",
    "# Host tree's tid values at these unique snapshot indices.\n",
    "host_id_arr = host_halo_full_tree_df.iloc[host_unique_snapnum_idxs]['tid'].values"
   ]
  },
  {
   "cell_type": "code",
   "execution_count": 14,
   "id": "ba173a00-9669-42d7-854c-4e886fd5e3e4",
   "metadata": {},
   "outputs": [
    {
     "data": {
      "text/plain": [
       "array([], dtype=float32)"
      ]
     },
     "execution_count": 14,
     "metadata": {},
     "output_type": "execute_result"
    },
    {
     "data": {
      "image/png": "[encoded data removed]",
      "text/plain": [
       "<Figure size 640x480 with 1 Axes>"
      ]
     },
     "metadata": {},
     "output_type": "display_data"
    }
   ],
   "source": [
    "fig, ax = plt.subplots(1,1)\n",
    "ax.plot(host_halo_full_tree_df.iloc[host_unique_snapnum_idxs]['snapshot'].values,\n",
    "       host_halo_full_tree_df.iloc[host_unique_snapnum_idxs]['mass.vir'].values)\n",
    "ax.plot(host_main_branch['snapshot'].values,\n",
    "        host_main_branch['mass.vir'].values)\n",
    "host_main_branch['mass.vir'].values[np.flip(host_main_branch['mass.vir'].values)!=host_halo_full_tree_df.iloc[host_unique_snapnum_idxs]['mass.vir'].values]"
   ]
  },
  {
   "cell_type": "code",
   "execution_count": 15,
   "id": "afd3683f-fc14-4c43-8d2e-33cd3cebd6b6",
   "metadata": {},
   "outputs": [],
   "source": [
    "def host_tree_subhalos_one_snap(loop_idx, host_tree_df, uniq_time_idx):\n",
    "    '''\n",
    "    * A function to obtain all subhalos from the host tree at the snapshot given by the snapshot index.\n",
    "      - All of these subhalos will merge to the host halo at some point.\n",
    "      - So they are all disrupted subhalos.\n",
    "    Returns:\n",
    "    - host_tree_snap: Slice of the host tree dataframe containing all subhalos at the given snapshot.\n",
    "    - first_idx: lower index used to slice the dataframe.\n",
    "    --- it will be added to subhalo_idx in the function make_single_subtree.\n",
    "    - last_idx: upper index used to slice the dataframe.\n",
    "    '''\n",
    "    # Get indices to slice the tree with.\n",
    "    # If the halo is found at the first snapshot of the host tree,\n",
    "    # last_idx is the last index of the series.\n",
    "    if loop_idx == 0:\n",
    "        # i+1 because the ith index is for the main branch.\n",
    "        first_idx = uniq_time_idx[loop_idx]+1\n",
    "        # The last index for the first snapshot is the last index of the host tree.\n",
    "        last_idx = len(host_tree_df)\n",
    "    \n",
    "    # All remaining snapshots.\n",
    "    else:\n",
    "        # i + 1 because the ith index is for the main branch.\n",
    "        first_idx = uniq_time_idx[loop_idx] + 1\n",
    "        last_idx = uniq_time_idx[loop_idx-1]\n",
    "       \n",
    "    '''\n",
    "    # Last snapshot of the simulation.\n",
    "    elif snap == len(uniq_scales[0]) - 1:\n",
    "        # There is no subhalo tree for the last snapshot, so break.\n",
    "        return\n",
    "    '''\n",
    "        \n",
    "    # Slice the host halo tree by the indices.\n",
    "    host_tree_snap = host_tree_df[first_idx:last_idx]\n",
    "    \n",
    "    # Return the tree slice.\n",
    "    return(host_tree_snap, first_idx, last_idx)\n",
    "#\n",
    "def host_tree_subhalos_one_snap_late_to_early(loop_idx, host_tree_df, unique_time_idx):\n",
    "    if loop_idx == 0:\n",
    "        print(f\"* Error: Last snapshot!\")\n",
    "    '''\n",
    "    # Get indices to slice the full host halo tree to obtain all elements at the snapshot corresponding to loop_idx.\n",
    "    '''\n",
    "    # index+1 because the ith index is for the main branch.\n",
    "    first_idx = unique_time_idx[loop_idx]+1\n",
    "    # last_idx itself points to the host halo at the next snapshot.\n",
    "    last_idx = unique_time_idx[loop_idx+1]\n",
    "    # Slice the host halo tree by the indices: all host tree elements at the current snapshot other than the main branch.\n",
    "    host_tree_full_snap = host_tree_df[first_idx:last_idx]\n",
    "    return(host_tree_full_snap, first_idx, last_idx)\n",
    "#\n",
    "def make_single_subtree(tid, snap, tree_df, uniq_scales_idx, host_id):\n",
    "    '''\n",
    "    * A function \n",
    "    Input:\n",
    "    - tid (integer): halo's id from the merger tree at the snapshot it is found for the first time.\n",
    "    - snap (integer): snapshot number the halo is found for the first time.\n",
    "    - tree_df: merger tree of the host halo.\n",
    "    - uniq_scales (array/list): -> Changed it to uniq_scales_idx. It's the same as uniq_scales[1]\n",
    "    -- [0] unique scale factors of the host from the entire scale factor array, from early to late.\n",
    "    -- [1] indices that give [0].\n",
    "    - uniq_scales_idx: early to late\n",
    "    - host_id: host halo's main branch tree ids.\n",
    "    \n",
    "    Returns:\n",
    "    - idx_list: index of the host tree dataframe that will give the tree for the current subhalo (tid).\n",
    "    '''\n",
    "    # Empty index list: iloc locations corresponding to the current subhalo will be stored here.\n",
    "    idx_list = []\n",
    "    for i in range(len(uniq_scales_idx) - snap):\n",
    "        i = i + snap\n",
    "        \n",
    "        # The last snapshot of the simulation doesn't have subhalos, so will be skipped.\n",
    "        if i < len(uniq_scales_idx) - 1:\n",
    "            # Get all subhalos in the current snapshot.\n",
    "            snap_subhalos, first_idx, last_idx = host_tree_subhalos_one_snap(i, tree_df, uniq_scales_idx)\n",
    "            \n",
    "            # At the snapshot the subhalo is found for the first time:\n",
    "            if i == snap:\n",
    "                # Find the index of the current halo and get its desc_id.\n",
    "                # Find the index of the current subhalo.\n",
    "                subhalo_idx = np.where(snap_subhalos['id'] == tid)[0][0]\n",
    "\n",
    "                # Descendant ID at the current snapshot - matches to ID at the next snapshot.\n",
    "                desc_id = snap_subhalos['desc_id'].iloc[subhalo_idx]\n",
    "            \n",
    "                # Append the first index to the index list.\n",
    "                # *** The index to return is subhalo_idx+first_idx because it will be used\n",
    "                # *** with the whole host tree dataframe.\n",
    "                idx_list.append(subhalo_idx+first_idx)\n",
    "                \n",
    "            # All remaining snapshots:\n",
    "            else:\n",
    "                # Find the index of the subhalo that has an ID that matches to the desc_id from the\n",
    "                # previous snapshot.\n",
    "                subhalo_idx = np.where(snap_subhalos['id'] == desc_id)[0]\n",
    "                \n",
    "                if len(subhalo_idx) > 0:\n",
    "                    # There is a matching subhalo,\n",
    "                    # so the descendant is not the host halo (i.e. not destroyed).\n",
    "                    subhalo_idx = subhalo_idx[0]\n",
    "                    desc_id = snap_subhalos['desc_id'].iloc[subhalo_idx]\n",
    "                    \n",
    "                    # Append the index to the index list.\n",
    "                    # *** The index to return is subhalo_idx+first_idx because it will be used\n",
    "                    # *** with the whole host tree dataframe.\n",
    "                    idx_list.append(subhalo_idx+first_idx)\n",
    "                    \n",
    "                else:\n",
    "                    # Subhalo merges to the host halo at the next snapshot.\n",
    "                    # Check this.\n",
    "                    host_id_next = np.flip(host_id)[i]\n",
    "                    if host_id_next == desc_id:\n",
    "                        break\n",
    "                        \n",
    "                    else:\n",
    "                        # Print an error message.\n",
    "                        print(\"* Error: No desc_id - id match is found but it also didn't merge to the host!\")\n",
    "                    \n",
    "    return(idx_list)"
   ]
  },
  {
   "cell_type": "code",
   "execution_count": 25,
   "id": "c2b8f852-c388-4cd4-afd2-54de50785edc",
   "metadata": {},
   "outputs": [
    {
     "name": "stdout",
     "output_type": "stream",
     "text": [
      "600\n",
      "[[34780.516 53336.426 45072.61 ]]\n",
      "* Last snapshot: no merging subhalos!\n",
      "  * Host index: 0\n",
      "  * # host progenitors from previous snap: 24\n",
      "599\n",
      "[[34783.137 53336.188 45072.566]]\n",
      "* Loop index: 1, Snapshot: 599\n",
      "  * # host progenitors from previous snap: 9\n",
      "  * Host index: 1\n",
      "[391.10693]\n",
      "[[34764.133 53347.555 45073.46 ]\n",
      " [34791.68  53337.496 45035.344]\n",
      " [34645.57  53214.86  45102.566]\n",
      " [34660.1   53144.305 44991.824]\n",
      " [34677.535 53277.45  45108.38 ]\n",
      " [34789.8   53361.812 45112.934]\n",
      " [34792.395 53351.78  45281.54 ]\n",
      " [34801.453 53246.254 45123.76 ]\n",
      " [34665.414 53304.094 44862.152]\n",
      " [34956.01  53195.355 45017.92 ]\n",
      " [34768.434 53341.47  44894.418]\n",
      " [34704.344 53479.8   45197.594]\n",
      " [34766.754 53425.63  45143.59 ]\n",
      " [34811.867 53358.605 44906.156]\n",
      " [34970.4   53301.754 45056.152]\n",
      " [34616.84  53456.61  44990.13 ]\n",
      " [34743.406 53156.473 45137.68 ]\n",
      " [35008.547 53346.992 45103.863]\n",
      " [34691.566 53252.297 45072.35 ]\n",
      " [34905.37  53185.94  45117.777]\n",
      " [34764.746 53317.723 44995.4  ]\n",
      " [34975.613 53423.12  45129.363]\n",
      " [34858.734 53406.727 45122.41 ]]\n",
      "         host.x\n",
      "2  -1247.481079\n",
      "3  -1219.938599\n",
      "4  -1366.024658\n",
      "5  -1351.495728\n",
      "6  -1334.064941\n",
      "7  -1221.817139\n",
      "8  -1219.223877\n",
      "9  -1210.166626\n",
      "10 -1346.184082\n",
      "11 -1055.632690\n",
      "12 -1243.180908\n",
      "13 -1307.260620\n",
      "14 -1244.860352\n",
      "15 -1199.754272\n",
      "16 -1041.248291\n",
      "17 -1394.750610\n",
      "18 -1268.204346\n",
      "19 -1003.105896\n",
      "20 -1320.035889\n",
      "21 -1106.265259\n",
      "22 -1246.867920\n",
      "23 -1036.034302\n",
      "24 -1152.894531\n",
      "    position.offset\n",
      "2      7.793433e+07\n",
      "3      7.799701e+07\n",
      "4      4.964388e+05\n",
      "5      5.847052e+05\n",
      "6      8.083476e+05\n",
      "7      8.215769e+05\n",
      "8      9.415941e+05\n",
      "9      1.068402e+06\n",
      "10     1.441353e+06\n",
      "11     2.227422e+06\n",
      "12     2.225840e+06\n",
      "13     2.520954e+06\n",
      "14     3.254473e+06\n",
      "15     3.388903e+06\n",
      "16     3.393989e+06\n",
      "17     3.713162e+06\n",
      "18     3.895484e+06\n",
      "19     4.596780e+06\n",
      "20     5.993448e+06\n",
      "21     5.999374e+06\n",
      "22     6.495726e+06\n",
      "23     6.516126e+06\n",
      "24     7.102166e+06\n",
      "598\n",
      "[[34783.12  53335.64  45072.895]]\n",
      "* Loop index: 2, Snapshot: 598\n",
      "  * # host progenitors from previous snap: 14\n",
      "  * Host index: 25\n",
      "[390.9333]\n",
      "[[34998.875 53439.918 45106.355]\n",
      " [34768.69  53371.027 45011.28 ]\n",
      " [34735.402 53310.754 45108.734]\n",
      " [34771.824 53303.406 45131.695]\n",
      " [34867.367 53248.207 45019.633]\n",
      " [34983.477 53343.918 45195.758]\n",
      " [34709.445 53159.32  45032.38 ]\n",
      " [34703.664 53306.    44927.406]\n",
      " [34764.816 53346.47  45073.105]\n",
      " [34792.223 53337.336 45035.074]\n",
      " [34645.67  53213.676 45101.98 ]\n",
      " [34660.258 53142.977 44991.41 ]\n",
      " [34678.26  53276.41  45108.266]\n",
      " [34790.586 53360.785 45112.895]\n",
      " [34793.035 53351.34  45280.94 ]\n",
      " [34802.68  53245.47  45123.105]\n",
      " [34665.812 53303.137 44861.4  ]\n",
      " [34956.312 53194.848 45017.18 ]\n",
      " [34768.574 53340.414 44893.86 ]\n",
      " [34704.8   53479.145 45197.438]\n",
      " [34767.195 53424.56  45143.58 ]\n",
      " [34812.277 53357.605 44905.312]\n",
      " [34970.83  53301.33  45055.473]\n",
      " [34616.812 53455.625 44989.8  ]\n",
      " [34743.65  53155.98  45137.41 ]\n",
      " [35008.72  53345.78  45103.152]\n",
      " [34692.223 53251.312 45072.35 ]\n",
      " [34905.773 53184.832 45117.152]\n",
      " [34765.64  53316.184 44995.117]\n",
      " [34976.215 53422.594 45128.605]\n",
      " [34859.273 53405.7   45122.695]]\n",
      "         host.x\n",
      "26 -1013.142029\n",
      "27 -1243.252319\n",
      "28 -1276.530762\n",
      "29 -1240.120483\n",
      "30 -1144.607910\n",
      "31 -1028.535522\n",
      "32 -1302.479492\n",
      "33 -1308.258911\n",
      "34 -1247.126099\n",
      "35 -1219.728516\n",
      "36 -1366.232666\n",
      "37 -1351.651367\n",
      "38 -1333.653198\n",
      "39 -1221.364746\n",
      "40 -1218.916260\n",
      "41 -1209.274902\n",
      "42 -1346.098389\n",
      "43 -1055.690918\n",
      "44 -1243.369507\n",
      "45 -1307.122559\n",
      "46 -1244.747925\n",
      "47 -1199.680298\n",
      "48 -1041.179932\n",
      "49 -1395.082886\n",
      "50 -1268.287354\n",
      "51 -1003.301392\n",
      "52 -1319.696655\n",
      "53 -1106.213989\n",
      "54 -1246.302124\n",
      "55 -1035.794922\n",
      "56 -1152.699097\n",
      "    position.offset\n",
      "26     2.896310e+06\n",
      "27     3.879487e+05\n",
      "28     5.735727e+05\n",
      "29     1.114600e+06\n",
      "30     2.292849e+06\n",
      "31     3.126980e+06\n",
      "32     3.706368e+06\n",
      "33     4.326296e+06\n",
      "34     6.234972e+07\n",
      "35     7.025870e+07\n",
      "36     5.027308e+05\n",
      "37     5.891211e+05\n",
      "38     8.635072e+05\n",
      "39     8.216611e+05\n",
      "40     8.684103e+05\n",
      "41     6.783961e+05\n",
      "42     1.415126e+06\n",
      "43     2.165527e+06\n",
      "44     2.596809e+06\n",
      "45     2.520954e+06\n",
      "46     3.124259e+06\n",
      "47     3.542934e+06\n",
      "48     3.501724e+06\n",
      "49     2.888006e+06\n",
      "50     4.003676e+06\n",
      "51     4.596624e+06\n",
      "52     5.288334e+06\n",
      "53     5.999260e+06\n",
      "54     8.660826e+06\n",
      "55     7.108419e+06\n",
      "56     7.102137e+06\n"
     ]
    }
   ],
   "source": [
    "# A list to add subtree dataframes to: it will be converted to one big dataframe at the end.\n",
    "full_subtree_df_list = []\n",
    "num_subtrees = 0\n",
    "for i in range(len(host_unique_snapnums[:3])):\n",
    "    current_snap = np.flip(host_unique_snapnums)[i]\n",
    "    print(current_snap)\n",
    "    current_snap_host_main_branch = host_main_branch.iloc[[i]]\n",
    "    print(current_snap_host_main_branch[['x','y','z']].values)\n",
    "    current_snap_host_index = current_snap_host_main_branch.index.values[0]\n",
    "    # progenitor.main.last.dindex of all elements in host_halo_full_tree_df\n",
    "    full_prog_main_last_didx_arr = host_halo_full_tree_df['progenitor.main.last.dindex'].values\n",
    "    if i == 0:\n",
    "        print(\"* Last snapshot: no merging subhalos!\")\n",
    "        print(f\"  * Host index: {current_snap_host_index}\")\n",
    "        print(f\"  * # host progenitors from previous snap: {current_snap_host_main_branch['progenitor.number'].values[0]}\")\n",
    "    elif i > 0:\n",
    "        if i == (len(host_unique_snapnums)-1):\n",
    "            # The last loop index: first snapshot of the host tree, so no merging subhalos!\n",
    "            continue\n",
    "        print(f\"* Loop index: {i}, Snapshot: {current_snap}\")\n",
    "        print(f\"  * # host progenitors from previous snap: {current_snap_host_main_branch['progenitor.number'].values[0]}\")\n",
    "        print(f\"  * Host index: {current_snap_host_index}\")\n",
    "        # Get all (sub)halos in the host full tree data at the current snapshot.\n",
    "        # The number of halos in 'current_snap_subs' usually will not be the same as 'progenitor.number'.\n",
    "        current_snap_subs, first_idx, last_idx = host_tree_subhalos_one_snap_late_to_early(i, host_halo_full_tree_df, np.flip(host_unique_snapnum_idxs))\n",
    "        print(current_snap_host_main_branch['radius'].values)\n",
    "        print(current_snap_subs[['x','y','z']].values)\n",
    "        print(current_snap_subs[['host.x']])\n",
    "        print(current_snap_subs[['position.offset']])\n",
    "        # descendant.index for current_snap_subs\n",
    "        descendant_idxs = current_snap_subs['descendant.index'].values\n",
    "        # Get indices (not tree indices, indices within current_snap_subs) of halos that merge to the host halo at the current snapshot.\n",
    "        # Two ways to do this:\n",
    "        #   1) Select those with 'descendant.index' equal to the host index at the next snapshot.\n",
    "        #   2) Select thost that are NOT the main progenitor at the current snapshot: 'am.progenitor.main'==0.\n",
    "        # \n",
    "        #subs_merging_now = current_snap_subs.iloc[np.where(descendant_idxs==next_snap_host_idx)[0]]\n",
    "        subs_merging_now = current_snap_subs.iloc[np.where(current_snap_subs['am.progenitor.main']==0)[0]]\n",
    "        num_subtrees += len(subs_merging_now)\n",
    "        # Make subtrees for all subhalos that are merging now.\n",
    "        for j in range(len(subs_merging_now)):\n",
    "            current_sub_prog_main_last_didx = subs_merging_now.iloc[[j]]['progenitor.main.last.dindex'].values[0]\n",
    "            current_sub_prog_idxs = np.where(full_prog_main_last_didx_arr == current_sub_prog_main_last_didx)[0]\n",
    "            current_sub_tree = host_halo_full_tree_df.iloc[current_sub_prog_idxs]\n",
    "            # Make sure the tree is correct by comparing the tree index and descendant.index.\n",
    "            current_tree_desc_idxs = current_sub_tree['descendant.index'].values\n",
    "            current_tree_idxs = current_sub_tree.index.values\n",
    "            if len(np.where(current_tree_idxs[:-1]!=current_tree_desc_idxs[1:])[0]) != 0:\n",
    "                print(f\"  *** tree index and descendant.index not matching: progenitor.main.last.dindex-{current_sub_prog_main_last_didx}\")\n",
    "            tree_tid = current_sub_tree['tid'].values[0]\n",
    "            tree_tid_arr = np.full(len(current_sub_tree), fill_value=tree_tid)\n",
    "            # Add a tree ID array to the current tree.\n",
    "            current_sub_tree.insert(0, 'tree.tid', tree_tid_arr)\n",
    "            # Append the subtree to the result list.\n",
    "            full_subtree_df_list.append(current_sub_tree)\n",
    "            #\n",
    "    next_snap_host_idx = current_snap_host_index\n",
    "# Convert the list of dataframes to one big dataframe.\n",
    "full_subtree_df = pd.concat(full_subtree_df_list)"
   ]
  },
  {
   "cell_type": "code",
   "execution_count": 73,
   "id": "29d7930a-f669-4e39-9e1e-c6d809b50997",
   "metadata": {},
   "outputs": [
    {
     "name": "stdout",
     "output_type": "stream",
     "text": [
      "* Number of disrupted subhalos found: 6704\n",
      "  * 6704\n",
      "* Number of rows in the full subtree dataframe: 918230\n"
     ]
    }
   ],
   "source": [
    "print(f\"* Number of disrupted subhalos found: {num_subtrees}\")\n",
    "print(f\"  * {len(np.unique(full_subtree_df['tree.tid'].values))}\")\n",
    "print(f\"* Number of rows in the full subtree dataframe: {len(full_subtree_df)}\")"
   ]
  },
  {
   "cell_type": "markdown",
   "id": "06fab9e0-701d-42b4-8936-3e32c12ff365",
   "metadata": {},
   "source": [
    "# Save the subtree data as a .hdf5 file."
   ]
  },
  {
   "cell_type": "code",
   "execution_count": 74,
   "id": "e48712ba-9025-44e5-97f7-5f6ed3a5cab1",
   "metadata": {},
   "outputs": [
    {
     "name": "stdout",
     "output_type": "stream",
     "text": [
      "* Main branch data saved at:\n",
      "    /scratch/05097/hk9457/FIREII/m12c_r7100/tree_processed_data/subtree_main_branches.hdf5\n",
      "\n",
      "* Time taken: 0.668 s\n"
     ]
    }
   ],
   "source": [
    "t_s = time.time()\n",
    "subtree_out_fname_hdf = \"/scratch/05097/hk9457/FIREII/m12c_r7100/tree_processed_data/subtree_main_branches.hdf5\"\n",
    "full_subtree_df.to_hdf(subtree_out_fname_hdf, key='df', index=False)\n",
    "t_e = time.time()\n",
    "print(\"* Main branch data saved at:\")\n",
    "print(f\"    {subtree_out_fname_hdf}\")\n",
    "print()\n",
    "print(f\"* Time taken: {t_e - t_s:.3f} s\")"
   ]
  },
  {
   "cell_type": "code",
   "execution_count": 75,
   "id": "657b0cf8-7272-412f-8aaf-d54a6613de2e",
   "metadata": {},
   "outputs": [
    {
     "name": "stdout",
     "output_type": "stream",
     "text": [
      "* Time taken: 0.765 s\n"
     ]
    }
   ],
   "source": [
    "t_s = time.time()\n",
    "subtree_out_fname_hdf = \"/scratch/05097/hk9457/FIREII/m12c_r7100/tree_processed_data/subtree_main_branches.hdf5\"\n",
    "saved_subtree_file_check_df = pd.read_hdf(subtree_out_fname_hdf)\n",
    "t_e = time.time()\n",
    "print(f\"* Time taken: {t_e - t_s:.3f} s\")"
   ]
  },
  {
   "cell_type": "code",
   "execution_count": 76,
   "id": "22bb8827-826c-47ad-b6b7-10849a59486d",
   "metadata": {},
   "outputs": [
    {
     "data": {
      "text/html": [
       "<div>\n",
       "<style scoped>\n",
       "    .dataframe tbody tr th:only-of-type {\n",
       "        vertical-align: middle;\n",
       "    }\n",
       "\n",
       "    .dataframe tbody tr th {\n",
       "        vertical-align: top;\n",
       "    }\n",
       "\n",
       "    .dataframe thead th {\n",
       "        text-align: right;\n",
       "    }\n",
       "</style>\n",
       "<table border=\"1\" class=\"dataframe\">\n",
       "  <thead>\n",
       "    <tr style=\"text-align: right;\">\n",
       "      <th></th>\n",
       "      <th>tree.tid</th>\n",
       "      <th>am.phantom</th>\n",
       "      <th>am.progenitor.main</th>\n",
       "      <th>axis.b_div.by_a</th>\n",
       "      <th>axis.c_div.by_a</th>\n",
       "      <th>catalog.index</th>\n",
       "      <th>central.index</th>\n",
       "      <th>central.local.index</th>\n",
       "      <th>descendant.index</th>\n",
       "      <th>descendant.snapshot</th>\n",
       "      <th>...</th>\n",
       "      <th>snapshot</th>\n",
       "      <th>spin.bullock</th>\n",
       "      <th>spin.peebles</th>\n",
       "      <th>tid</th>\n",
       "      <th>vel.circ.max</th>\n",
       "      <th>vel.std</th>\n",
       "      <th>vx</th>\n",
       "      <th>vy</th>\n",
       "      <th>vz</th>\n",
       "      <th>velocity.offset</th>\n",
       "    </tr>\n",
       "  </thead>\n",
       "  <tbody>\n",
       "    <tr>\n",
       "      <th>2</th>\n",
       "      <td>64582638</td>\n",
       "      <td>0</td>\n",
       "      <td>0</td>\n",
       "      <td>0.892910</td>\n",
       "      <td>0.168540</td>\n",
       "      <td>25335</td>\n",
       "      <td>1</td>\n",
       "      <td>6018935</td>\n",
       "      <td>0</td>\n",
       "      <td>600</td>\n",
       "      <td>...</td>\n",
       "      <td>599</td>\n",
       "      <td>0.000190</td>\n",
       "      <td>0.00001</td>\n",
       "      <td>64582638</td>\n",
       "      <td>8.50</td>\n",
       "      <td>18.629999</td>\n",
       "      <td>-293.299988</td>\n",
       "      <td>482.119995</td>\n",
       "      <td>154.839996</td>\n",
       "      <td>584.590027</td>\n",
       "    </tr>\n",
       "    <tr>\n",
       "      <th>34</th>\n",
       "      <td>64582638</td>\n",
       "      <td>1</td>\n",
       "      <td>1</td>\n",
       "      <td>0.714328</td>\n",
       "      <td>0.134832</td>\n",
       "      <td>-48624385</td>\n",
       "      <td>25</td>\n",
       "      <td>6018936</td>\n",
       "      <td>2</td>\n",
       "      <td>599</td>\n",
       "      <td>...</td>\n",
       "      <td>598</td>\n",
       "      <td>0.040228</td>\n",
       "      <td>0.01287</td>\n",
       "      <td>64474937</td>\n",
       "      <td>8.56</td>\n",
       "      <td>17.290001</td>\n",
       "      <td>-295.510010</td>\n",
       "      <td>483.529999</td>\n",
       "      <td>154.990005</td>\n",
       "      <td>468.403992</td>\n",
       "    </tr>\n",
       "    <tr>\n",
       "      <th>79</th>\n",
       "      <td>64582638</td>\n",
       "      <td>2</td>\n",
       "      <td>1</td>\n",
       "      <td>0.535746</td>\n",
       "      <td>0.101124</td>\n",
       "      <td>-48624385</td>\n",
       "      <td>57</td>\n",
       "      <td>6018937</td>\n",
       "      <td>34</td>\n",
       "      <td>598</td>\n",
       "      <td>...</td>\n",
       "      <td>597</td>\n",
       "      <td>0.080266</td>\n",
       "      <td>0.02573</td>\n",
       "      <td>64366412</td>\n",
       "      <td>8.61</td>\n",
       "      <td>15.710000</td>\n",
       "      <td>-297.779999</td>\n",
       "      <td>484.950012</td>\n",
       "      <td>155.070007</td>\n",
       "      <td>352.217987</td>\n",
       "    </tr>\n",
       "    <tr>\n",
       "      <th>138</th>\n",
       "      <td>64582638</td>\n",
       "      <td>3</td>\n",
       "      <td>1</td>\n",
       "      <td>0.357164</td>\n",
       "      <td>0.067416</td>\n",
       "      <td>-48624385</td>\n",
       "      <td>102</td>\n",
       "      <td>8975232</td>\n",
       "      <td>79</td>\n",
       "      <td>597</td>\n",
       "      <td>...</td>\n",
       "      <td>596</td>\n",
       "      <td>0.120304</td>\n",
       "      <td>0.03858</td>\n",
       "      <td>64257109</td>\n",
       "      <td>8.67</td>\n",
       "      <td>13.730000</td>\n",
       "      <td>-299.859985</td>\n",
       "      <td>486.269989</td>\n",
       "      <td>155.220001</td>\n",
       "      <td>236.031998</td>\n",
       "    </tr>\n",
       "    <tr>\n",
       "      <th>211</th>\n",
       "      <td>64582638</td>\n",
       "      <td>4</td>\n",
       "      <td>1</td>\n",
       "      <td>0.178582</td>\n",
       "      <td>0.033708</td>\n",
       "      <td>-48624385</td>\n",
       "      <td>161</td>\n",
       "      <td>8975233</td>\n",
       "      <td>138</td>\n",
       "      <td>596</td>\n",
       "      <td>...</td>\n",
       "      <td>595</td>\n",
       "      <td>0.160342</td>\n",
       "      <td>0.05144</td>\n",
       "      <td>64147231</td>\n",
       "      <td>8.73</td>\n",
       "      <td>10.900000</td>\n",
       "      <td>-301.940002</td>\n",
       "      <td>487.529999</td>\n",
       "      <td>155.419998</td>\n",
       "      <td>119.846001</td>\n",
       "    </tr>\n",
       "    <tr>\n",
       "      <th>...</th>\n",
       "      <td>...</td>\n",
       "      <td>...</td>\n",
       "      <td>...</td>\n",
       "      <td>...</td>\n",
       "      <td>...</td>\n",
       "      <td>...</td>\n",
       "      <td>...</td>\n",
       "      <td>...</td>\n",
       "      <td>...</td>\n",
       "      <td>...</td>\n",
       "      <td>...</td>\n",
       "      <td>...</td>\n",
       "      <td>...</td>\n",
       "      <td>...</td>\n",
       "      <td>...</td>\n",
       "      <td>...</td>\n",
       "      <td>...</td>\n",
       "      <td>...</td>\n",
       "      <td>...</td>\n",
       "      <td>...</td>\n",
       "      <td>...</td>\n",
       "    </tr>\n",
       "    <tr>\n",
       "      <th>918608</th>\n",
       "      <td>20216</td>\n",
       "      <td>0</td>\n",
       "      <td>1</td>\n",
       "      <td>0.834190</td>\n",
       "      <td>0.468500</td>\n",
       "      <td>61</td>\n",
       "      <td>-48624385</td>\n",
       "      <td>-48624385</td>\n",
       "      <td>918563</td>\n",
       "      <td>14</td>\n",
       "      <td>...</td>\n",
       "      <td>13</td>\n",
       "      <td>0.072180</td>\n",
       "      <td>0.06407</td>\n",
       "      <td>12654</td>\n",
       "      <td>13.18</td>\n",
       "      <td>16.730000</td>\n",
       "      <td>-69.389999</td>\n",
       "      <td>144.940002</td>\n",
       "      <td>66.660004</td>\n",
       "      <td>3.220000</td>\n",
       "    </tr>\n",
       "    <tr>\n",
       "      <th>918560</th>\n",
       "      <td>14922</td>\n",
       "      <td>0</td>\n",
       "      <td>0</td>\n",
       "      <td>0.434980</td>\n",
       "      <td>0.264660</td>\n",
       "      <td>186</td>\n",
       "      <td>-48624385</td>\n",
       "      <td>-48624385</td>\n",
       "      <td>918514</td>\n",
       "      <td>15</td>\n",
       "      <td>...</td>\n",
       "      <td>14</td>\n",
       "      <td>0.053290</td>\n",
       "      <td>0.01125</td>\n",
       "      <td>14922</td>\n",
       "      <td>13.04</td>\n",
       "      <td>13.270000</td>\n",
       "      <td>-65.230003</td>\n",
       "      <td>93.589996</td>\n",
       "      <td>21.879999</td>\n",
       "      <td>5.450000</td>\n",
       "    </tr>\n",
       "    <tr>\n",
       "      <th>918605</th>\n",
       "      <td>14922</td>\n",
       "      <td>0</td>\n",
       "      <td>1</td>\n",
       "      <td>0.716680</td>\n",
       "      <td>0.266250</td>\n",
       "      <td>167</td>\n",
       "      <td>-48624385</td>\n",
       "      <td>-48624385</td>\n",
       "      <td>918560</td>\n",
       "      <td>14</td>\n",
       "      <td>...</td>\n",
       "      <td>13</td>\n",
       "      <td>0.058610</td>\n",
       "      <td>0.02788</td>\n",
       "      <td>12637</td>\n",
       "      <td>13.44</td>\n",
       "      <td>15.960000</td>\n",
       "      <td>-66.129997</td>\n",
       "      <td>91.699997</td>\n",
       "      <td>17.090000</td>\n",
       "      <td>7.440000</td>\n",
       "    </tr>\n",
       "    <tr>\n",
       "      <th>918645</th>\n",
       "      <td>14922</td>\n",
       "      <td>1</td>\n",
       "      <td>1</td>\n",
       "      <td>0.716680</td>\n",
       "      <td>0.266250</td>\n",
       "      <td>-48624385</td>\n",
       "      <td>-48624385</td>\n",
       "      <td>-48624385</td>\n",
       "      <td>918605</td>\n",
       "      <td>13</td>\n",
       "      <td>...</td>\n",
       "      <td>12</td>\n",
       "      <td>0.058610</td>\n",
       "      <td>0.02788</td>\n",
       "      <td>10586</td>\n",
       "      <td>13.44</td>\n",
       "      <td>15.960000</td>\n",
       "      <td>-66.330002</td>\n",
       "      <td>91.980003</td>\n",
       "      <td>17.139999</td>\n",
       "      <td>7.440000</td>\n",
       "    </tr>\n",
       "    <tr>\n",
       "      <th>918679</th>\n",
       "      <td>14922</td>\n",
       "      <td>2</td>\n",
       "      <td>1</td>\n",
       "      <td>0.716680</td>\n",
       "      <td>0.266250</td>\n",
       "      <td>-48624385</td>\n",
       "      <td>-48624385</td>\n",
       "      <td>-48624385</td>\n",
       "      <td>918645</td>\n",
       "      <td>12</td>\n",
       "      <td>...</td>\n",
       "      <td>11</td>\n",
       "      <td>0.058610</td>\n",
       "      <td>0.02788</td>\n",
       "      <td>8681</td>\n",
       "      <td>13.44</td>\n",
       "      <td>15.960000</td>\n",
       "      <td>-66.529999</td>\n",
       "      <td>92.250000</td>\n",
       "      <td>17.190001</td>\n",
       "      <td>7.440000</td>\n",
       "    </tr>\n",
       "  </tbody>\n",
       "</table>\n",
       "<p>918230 rows × 53 columns</p>\n",
       "</div>"
      ],
      "text/plain": [
       "        tree.tid  am.phantom  am.progenitor.main  axis.b_div.by_a  \\\n",
       "2       64582638           0                   0         0.892910   \n",
       "34      64582638           1                   1         0.714328   \n",
       "79      64582638           2                   1         0.535746   \n",
       "138     64582638           3                   1         0.357164   \n",
       "211     64582638           4                   1         0.178582   \n",
       "...          ...         ...                 ...              ...   \n",
       "918608     20216           0                   1         0.834190   \n",
       "918560     14922           0                   0         0.434980   \n",
       "918605     14922           0                   1         0.716680   \n",
       "918645     14922           1                   1         0.716680   \n",
       "918679     14922           2                   1         0.716680   \n",
       "\n",
       "        axis.c_div.by_a  catalog.index  central.index  central.local.index  \\\n",
       "2              0.168540          25335              1              6018935   \n",
       "34             0.134832      -48624385             25              6018936   \n",
       "79             0.101124      -48624385             57              6018937   \n",
       "138            0.067416      -48624385            102              8975232   \n",
       "211            0.033708      -48624385            161              8975233   \n",
       "...                 ...            ...            ...                  ...   \n",
       "918608         0.468500             61      -48624385            -48624385   \n",
       "918560         0.264660            186      -48624385            -48624385   \n",
       "918605         0.266250            167      -48624385            -48624385   \n",
       "918645         0.266250      -48624385      -48624385            -48624385   \n",
       "918679         0.266250      -48624385      -48624385            -48624385   \n",
       "\n",
       "        descendant.index  descendant.snapshot  ...  snapshot  spin.bullock  \\\n",
       "2                      0                  600  ...       599      0.000190   \n",
       "34                     2                  599  ...       598      0.040228   \n",
       "79                    34                  598  ...       597      0.080266   \n",
       "138                   79                  597  ...       596      0.120304   \n",
       "211                  138                  596  ...       595      0.160342   \n",
       "...                  ...                  ...  ...       ...           ...   \n",
       "918608            918563                   14  ...        13      0.072180   \n",
       "918560            918514                   15  ...        14      0.053290   \n",
       "918605            918560                   14  ...        13      0.058610   \n",
       "918645            918605                   13  ...        12      0.058610   \n",
       "918679            918645                   12  ...        11      0.058610   \n",
       "\n",
       "        spin.peebles       tid  vel.circ.max    vel.std          vx  \\\n",
       "2            0.00001  64582638          8.50  18.629999 -293.299988   \n",
       "34           0.01287  64474937          8.56  17.290001 -295.510010   \n",
       "79           0.02573  64366412          8.61  15.710000 -297.779999   \n",
       "138          0.03858  64257109          8.67  13.730000 -299.859985   \n",
       "211          0.05144  64147231          8.73  10.900000 -301.940002   \n",
       "...              ...       ...           ...        ...         ...   \n",
       "918608       0.06407     12654         13.18  16.730000  -69.389999   \n",
       "918560       0.01125     14922         13.04  13.270000  -65.230003   \n",
       "918605       0.02788     12637         13.44  15.960000  -66.129997   \n",
       "918645       0.02788     10586         13.44  15.960000  -66.330002   \n",
       "918679       0.02788      8681         13.44  15.960000  -66.529999   \n",
       "\n",
       "                vy          vz  velocity.offset  \n",
       "2       482.119995  154.839996       584.590027  \n",
       "34      483.529999  154.990005       468.403992  \n",
       "79      484.950012  155.070007       352.217987  \n",
       "138     486.269989  155.220001       236.031998  \n",
       "211     487.529999  155.419998       119.846001  \n",
       "...            ...         ...              ...  \n",
       "918608  144.940002   66.660004         3.220000  \n",
       "918560   93.589996   21.879999         5.450000  \n",
       "918605   91.699997   17.090000         7.440000  \n",
       "918645   91.980003   17.139999         7.440000  \n",
       "918679   92.250000   17.190001         7.440000  \n",
       "\n",
       "[918230 rows x 53 columns]"
      ]
     },
     "execution_count": 76,
     "metadata": {},
     "output_type": "execute_result"
    }
   ],
   "source": [
    "saved_subtree_file_check_df"
   ]
  },
  {
   "cell_type": "code",
   "execution_count": 77,
   "id": "c3d9209d-2811-4ee0-b7d0-f249aa921ec6",
   "metadata": {},
   "outputs": [
    {
     "data": {
      "text/plain": [
       "918230"
      ]
     },
     "execution_count": 77,
     "metadata": {},
     "output_type": "execute_result"
    }
   ],
   "source": [
    "len(saved_subtree_file_check_df)"
   ]
  },
  {
   "cell_type": "markdown",
   "id": "0ea76cba-a867-4a45-9a51-96a18a9a505d",
   "metadata": {},
   "source": [
    "# Save the host halo main branch data as a .csv file."
   ]
  },
  {
   "cell_type": "code",
   "execution_count": 79,
   "id": "06308c98-f759-488c-be2c-351df710af91",
   "metadata": {},
   "outputs": [],
   "source": [
    "host_main_branch_fname = \"/scratch/05097/hk9457/FIREII/m12c_r7100/tree_processed_data/host_main_branch.csv\"\n",
    "host_main_branch.to_csv(host_main_branch_fname, index=False)"
   ]
  }
 ],
 "metadata": {
  "kernelspec": {
   "display_name": "Python 3 (my_env)",
   "language": "python",
   "name": "my_env"
  },
  "language_info": {
   "codemirror_mode": {
    "name": "ipython",
    "version": 3
   },
   "file_extension": ".py",
   "mimetype": "text/x-python",
   "name": "python",
   "nbconvert_exporter": "python",
   "pygments_lexer": "ipython3",
   "version": "3.9.18"
  }
 },
 "nbformat": 4,
 "nbformat_minor": 5
}
