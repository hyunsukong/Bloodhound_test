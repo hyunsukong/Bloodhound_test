{
 "cells": [
  {
   "cell_type": "code",
   "execution_count": 1,
   "id": "14e69644-b8d6-4483-8032-750567caafbc",
   "metadata": {},
   "outputs": [],
   "source": [
    "from matplotlib import pyplot as plt\n",
    "import bloodhound\n",
    "import importlib\n",
    "import numpy as np"
   ]
  },
  {
   "cell_type": "code",
   "execution_count": 2,
   "id": "41fd60fe-96e2-4d9b-9e44-218268c4f6fb",
   "metadata": {
    "scrolled": true
   },
   "outputs": [
    {
     "ename": "IndexError",
     "evalue": "list index out of range",
     "output_type": "error",
     "traceback": [
      "\u001b[0;31m---------------------------------------------------------------------------\u001b[0m",
      "\u001b[0;31mIndexError\u001b[0m                                Traceback (most recent call last)",
      "Cell \u001b[0;32mIn[2], line 1\u001b[0m\n\u001b[0;32m----> 1\u001b[0m \u001b[43mbloodhound\u001b[49m\u001b[38;5;241;43m.\u001b[39;49m\u001b[43mmain\u001b[49m\u001b[43m(\u001b[49m\u001b[43m)\u001b[49m\n",
      "File \u001b[0;32m/scratch/05097/hk9457/FIREII/m12c_r7100/bloodhound_subhalo_tracking/bloodhound_test/bloodhound.py:740\u001b[0m, in \u001b[0;36mmain\u001b[0;34m()\u001b[0m\n\u001b[1;32m    738\u001b[0m t_s_step \u001b[38;5;241m=\u001b[39m time\u001b[38;5;241m.\u001b[39mtime()\n\u001b[1;32m    739\u001b[0m \u001b[38;5;28mprint\u001b[39m(\u001b[38;5;124m\"\u001b[39m\u001b[38;5;124m### Tracking subhalos: one snapshot at a time ###\u001b[39m\u001b[38;5;124m\"\u001b[39m, flush\u001b[38;5;241m=\u001b[39m\u001b[38;5;28;01mTrue\u001b[39;00m, file\u001b[38;5;241m=\u001b[39mout_f)\n\u001b[0;32m--> 740\u001b[0m \u001b[43msubhalo_tracking_wrapper_function\u001b[49m\u001b[43m(\u001b[49m\u001b[43mBH_parameters\u001b[49m\u001b[43m,\u001b[49m\u001b[43m \u001b[49m\u001b[43msim_num\u001b[49m\u001b[43m,\u001b[49m\u001b[43m \u001b[49m\u001b[43minfall_information_dict\u001b[49m\u001b[43m,\u001b[49m\u001b[43m \u001b[49m\u001b[43mout_f\u001b[49m\u001b[43m)\u001b[49m\n\u001b[1;32m    741\u001b[0m t_e_step \u001b[38;5;241m=\u001b[39m time\u001b[38;5;241m.\u001b[39mtime()\n\u001b[1;32m    742\u001b[0m \u001b[38;5;28mprint\u001b[39m(\u001b[38;5;124m\"\u001b[39m\u001b[38;5;124m### Subhalo tracking for current simulation finished! ###\u001b[39m\u001b[38;5;124m\"\u001b[39m, flush\u001b[38;5;241m=\u001b[39m\u001b[38;5;28;01mTrue\u001b[39;00m, file\u001b[38;5;241m=\u001b[39mout_f)\n",
      "File \u001b[0;32m/scratch/05097/hk9457/FIREII/m12c_r7100/bloodhound_subhalo_tracking/bloodhound_test/bloodhound.py:558\u001b[0m, in \u001b[0;36msubhalo_tracking_wrapper_function\u001b[0;34m(BH_parameters, sim_num, infall_information_dict, out_f)\u001b[0m\n\u001b[1;32m    556\u001b[0m infall_snap \u001b[38;5;241m=\u001b[39m infall_snapnums[infall_idx]\n\u001b[1;32m    557\u001b[0m current_snap_infalling_hids \u001b[38;5;241m=\u001b[39m infall_hid_list[infall_idx]\n\u001b[0;32m--> 558\u001b[0m current_snap_infalling_halos_pID_list \u001b[38;5;241m=\u001b[39m \u001b[43minfall_halo_pID_list\u001b[49m\u001b[43m[\u001b[49m\u001b[43minfall_idx\u001b[49m\u001b[43m]\u001b[49m\n\u001b[1;32m    559\u001b[0m \u001b[38;5;66;03m#\u001b[39;00m\n\u001b[1;32m    560\u001b[0m \u001b[38;5;66;03m# Update the number of subhalos that have already started tracking.\u001b[39;00m\n\u001b[1;32m    561\u001b[0m num_subs_tracking_started \u001b[38;5;241m+\u001b[39m\u001b[38;5;241m=\u001b[39m num_subs_last_infall_snap\n",
      "\u001b[0;31mIndexError\u001b[0m: list index out of range"
     ]
    }
   ],
   "source": [
    "bloodhound.main()"
   ]
  }
 ],
 "metadata": {
  "kernelspec": {
   "display_name": "Python 3 (my_env)",
   "language": "python",
   "name": "my_env"
  },
  "language_info": {
   "codemirror_mode": {
    "name": "ipython",
    "version": 3
   },
   "file_extension": ".py",
   "mimetype": "text/x-python",
   "name": "python",
   "nbconvert_exporter": "python",
   "pygments_lexer": "ipython3",
   "version": "3.9.18"
  }
 },
 "nbformat": 4,
 "nbformat_minor": 5
}
