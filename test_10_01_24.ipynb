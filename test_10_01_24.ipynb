{
 "cells": [
  {
   "cell_type": "code",
   "execution_count": 1,
   "id": "14e69644-b8d6-4483-8032-750567caafbc",
   "metadata": {},
   "outputs": [],
   "source": [
    "from matplotlib import pyplot as plt\n",
    "import bloodhound\n",
    "import importlib\n",
    "import numpy as np"
   ]
  },
  {
   "cell_type": "code",
   "execution_count": 2,
   "id": "41fd60fe-96e2-4d9b-9e44-218268c4f6fb",
   "metadata": {},
   "outputs": [
    {
     "ename": "FileNotFoundError",
     "evalue": "File /scratch/05097/hk9457/FIREII/m12c_r7100/bloodhound_subhalo_tracking/infalling_subhalo_result/m12c_r7100_disk_infall_subhalo.hdf5 does not exist",
     "output_type": "error",
     "traceback": [
      "\u001b[0;31m---------------------------------------------------------------------------\u001b[0m",
      "\u001b[0;31mFileNotFoundError\u001b[0m                         Traceback (most recent call last)",
      "Cell \u001b[0;32mIn[2], line 1\u001b[0m\n\u001b[0;32m----> 1\u001b[0m \u001b[43mbloodhound\u001b[49m\u001b[38;5;241;43m.\u001b[39;49m\u001b[43mmain\u001b[49m\u001b[43m(\u001b[49m\u001b[43m)\u001b[49m\n",
      "File \u001b[0;32m/scratch/05097/hk9457/FIREII/m12c_r7100/bloodhound_subhalo_tracking/Bloodhound/bloodhound.py:642\u001b[0m, in \u001b[0;36mmain\u001b[0;34m()\u001b[0m\n\u001b[1;32m    640\u001b[0m t_s_step \u001b[38;5;241m=\u001b[39m time\u001b[38;5;241m.\u001b[39mtime()\n\u001b[1;32m    641\u001b[0m \u001b[38;5;28mprint\u001b[39m(\u001b[38;5;124m\"\u001b[39m\u001b[38;5;124m### Initializing halo tracking ###\u001b[39m\u001b[38;5;124m\"\u001b[39m, flush\u001b[38;5;241m=\u001b[39m\u001b[38;5;28;01mTrue\u001b[39;00m, file\u001b[38;5;241m=\u001b[39mout_f)\n\u001b[0;32m--> 642\u001b[0m infall_information_dict \u001b[38;5;241m=\u001b[39m \u001b[43minitialize_halo_tracking\u001b[49m\u001b[43m(\u001b[49m\u001b[43mBH_parameters\u001b[49m\u001b[43m,\u001b[49m\u001b[43m \u001b[49m\u001b[43msim_num\u001b[49m\u001b[43m,\u001b[49m\u001b[43m \u001b[49m\u001b[43mout_f\u001b[49m\u001b[43m)\u001b[49m\n\u001b[1;32m    643\u001b[0m t_e_step \u001b[38;5;241m=\u001b[39m time\u001b[38;5;241m.\u001b[39mtime()\n\u001b[1;32m    644\u001b[0m \u001b[38;5;28mprint\u001b[39m(\u001b[38;5;124m\"\u001b[39m\u001b[38;5;124m### Initializing halo tracking finished! ###\u001b[39m\u001b[38;5;124m\"\u001b[39m, flush\u001b[38;5;241m=\u001b[39m\u001b[38;5;28;01mTrue\u001b[39;00m, file\u001b[38;5;241m=\u001b[39mout_f)\n",
      "File \u001b[0;32m/scratch/05097/hk9457/FIREII/m12c_r7100/bloodhound_subhalo_tracking/Bloodhound/bloodhound.py:305\u001b[0m, in \u001b[0;36minitialize_halo_tracking\u001b[0;34m(BH_parameters, sim_num, out_f)\u001b[0m\n\u001b[1;32m    303\u001b[0m \u001b[38;5;66;03m# Read in the infalling subtree data for the given simulation number.\u001b[39;00m\n\u001b[1;32m    304\u001b[0m \u001b[38;5;28mprint\u001b[39m(\u001b[38;5;124m\"\u001b[39m\u001b[38;5;124m# Reading in infalling subhalo data identified by infalling_subhalo_criteria.py #\u001b[39m\u001b[38;5;124m\"\u001b[39m, flush\u001b[38;5;241m=\u001b[39m\u001b[38;5;28;01mTrue\u001b[39;00m, file\u001b[38;5;241m=\u001b[39mout_f)\n\u001b[0;32m--> 305\u001b[0m infall_subtree_df \u001b[38;5;241m=\u001b[39m \u001b[43mread_in_infalling_subtree_data\u001b[49m\u001b[43m(\u001b[49m\u001b[43mBH_parameters\u001b[49m\u001b[43m,\u001b[49m\u001b[43m \u001b[49m\u001b[43msim_num\u001b[49m\u001b[43m,\u001b[49m\u001b[43m \u001b[49m\u001b[43mout_f\u001b[49m\u001b[43m)\u001b[49m\n\u001b[1;32m    306\u001b[0m \u001b[38;5;66;03m#\u001b[39;00m\n\u001b[1;32m    307\u001b[0m \u001b[38;5;66;03m# Remove broken-link subhalos (and unmatched halos if halo matching between two Rockstar sets was done).\u001b[39;00m\n\u001b[1;32m    308\u001b[0m cleaned_infall_subtree_df \u001b[38;5;241m=\u001b[39m remove_incomplete_subtrees(infall_subtree_df, BH_parameters, out_f)\n",
      "File \u001b[0;32m/scratch/05097/hk9457/FIREII/m12c_r7100/bloodhound_subhalo_tracking/Bloodhound/bloodhound.py:111\u001b[0m, in \u001b[0;36mread_in_infalling_subtree_data\u001b[0;34m(BH_parameters, sim_num, out_f)\u001b[0m\n\u001b[1;32m    108\u001b[0m fname \u001b[38;5;241m=\u001b[39m \u001b[38;5;124mf\u001b[39m\u001b[38;5;124m\"\u001b[39m\u001b[38;5;132;01m{\u001b[39;00mfdir\u001b[38;5;132;01m}\u001b[39;00m\u001b[38;5;124m/\u001b[39m\u001b[38;5;132;01m{\u001b[39;00msim_num\u001b[38;5;132;01m}\u001b[39;00m\u001b[38;5;124m_\u001b[39m\u001b[38;5;132;01m{\u001b[39;00msim_type\u001b[38;5;132;01m}\u001b[39;00m\u001b[38;5;124m_\u001b[39m\u001b[38;5;132;01m{\u001b[39;00mfname_base\u001b[38;5;132;01m}\u001b[39;00m\u001b[38;5;124m.hdf5\u001b[39m\u001b[38;5;124m\"\u001b[39m\n\u001b[1;32m    109\u001b[0m \u001b[38;5;66;03m#\u001b[39;00m\n\u001b[1;32m    110\u001b[0m \u001b[38;5;66;03m# Read in the data.\u001b[39;00m\n\u001b[0;32m--> 111\u001b[0m infall_subtree_df \u001b[38;5;241m=\u001b[39m \u001b[43mpd\u001b[49m\u001b[38;5;241;43m.\u001b[39;49m\u001b[43mread_hdf\u001b[49m\u001b[43m(\u001b[49m\u001b[43mfname\u001b[49m\u001b[43m)\u001b[49m\n\u001b[1;32m    112\u001b[0m \u001b[38;5;28;01mreturn\u001b[39;00m(infall_subtree_df)\n",
      "File \u001b[0;32m~/.conda/envs/my_env/lib/python3.9/site-packages/pandas/io/pytables.py:414\u001b[0m, in \u001b[0;36mread_hdf\u001b[0;34m(path_or_buf, key, mode, errors, where, start, stop, columns, iterator, chunksize, **kwargs)\u001b[0m\n\u001b[1;32m    411\u001b[0m     exists \u001b[38;5;241m=\u001b[39m \u001b[38;5;28;01mFalse\u001b[39;00m\n\u001b[1;32m    413\u001b[0m \u001b[38;5;28;01mif\u001b[39;00m \u001b[38;5;129;01mnot\u001b[39;00m exists:\n\u001b[0;32m--> 414\u001b[0m     \u001b[38;5;28;01mraise\u001b[39;00m \u001b[38;5;167;01mFileNotFoundError\u001b[39;00m(\u001b[38;5;124mf\u001b[39m\u001b[38;5;124m\"\u001b[39m\u001b[38;5;124mFile \u001b[39m\u001b[38;5;132;01m{\u001b[39;00mpath_or_buf\u001b[38;5;132;01m}\u001b[39;00m\u001b[38;5;124m does not exist\u001b[39m\u001b[38;5;124m\"\u001b[39m)\n\u001b[1;32m    416\u001b[0m store \u001b[38;5;241m=\u001b[39m HDFStore(path_or_buf, mode\u001b[38;5;241m=\u001b[39mmode, errors\u001b[38;5;241m=\u001b[39merrors, \u001b[38;5;241m*\u001b[39m\u001b[38;5;241m*\u001b[39mkwargs)\n\u001b[1;32m    417\u001b[0m \u001b[38;5;66;03m# can't auto open/close if we are using an iterator\u001b[39;00m\n\u001b[1;32m    418\u001b[0m \u001b[38;5;66;03m# so delegate to the iterator\u001b[39;00m\n",
      "\u001b[0;31mFileNotFoundError\u001b[0m: File /scratch/05097/hk9457/FIREII/m12c_r7100/bloodhound_subhalo_tracking/infalling_subhalo_result/m12c_r7100_disk_infall_subhalo.hdf5 does not exist"
     ]
    }
   ],
   "source": [
    "bloodhound.main()"
   ]
  }
 ],
 "metadata": {
  "kernelspec": {
   "display_name": "Python 3 (my_env)",
   "language": "python",
   "name": "my_env"
  },
  "language_info": {
   "codemirror_mode": {
    "name": "ipython",
    "version": 3
   },
   "file_extension": ".py",
   "mimetype": "text/x-python",
   "name": "python",
   "nbconvert_exporter": "python",
   "pygments_lexer": "ipython3",
   "version": "3.9.18"
  }
 },
 "nbformat": 4,
 "nbformat_minor": 5
}
